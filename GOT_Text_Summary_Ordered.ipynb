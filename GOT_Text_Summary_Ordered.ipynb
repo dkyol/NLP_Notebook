{
 "cells": [
  {
   "cell_type": "code",
   "execution_count": 1,
   "metadata": {},
   "outputs": [],
   "source": [
    "import numpy as np\n",
    "import pandas as pd \n",
    "\n",
    "data = pd.read_csv('/home/ec2-user/skip_thoughts/skipthoughts_kiros/skip-thoughts/Scripts.csv')"
   ]
  },
  {
   "cell_type": "code",
   "execution_count": 2,
   "metadata": {},
   "outputs": [],
   "source": [
    "from nltk.tokenize import sent_tokenize\n",
    "from sklearn.cluster import KMeans\n",
    "from sklearn.metrics import pairwise_distances_argmin_min\n",
    "from sklearn.feature_extraction.text import CountVectorizer"
   ]
  },
  {
   "cell_type": "code",
   "execution_count": 3,
   "metadata": {},
   "outputs": [],
   "source": [
    "import spacy\n",
    "import textacy"
   ]
  },
  {
   "cell_type": "code",
   "execution_count": 4,
   "metadata": {},
   "outputs": [],
   "source": [
    "import textacy\n",
    "import textacy.keyterms\n",
    "import textacy.extract"
   ]
  },
  {
   "cell_type": "code",
   "execution_count": 5,
   "metadata": {},
   "outputs": [],
   "source": [
    "nlp = spacy.load(\"en_core_web_sm\")"
   ]
  },
  {
   "cell_type": "code",
   "execution_count": 6,
   "metadata": {
    "scrolled": true
   },
   "outputs": [
    {
     "data": {
      "text/html": [
       "<div>\n",
       "<style scoped>\n",
       "    .dataframe tbody tr th:only-of-type {\n",
       "        vertical-align: middle;\n",
       "    }\n",
       "\n",
       "    .dataframe tbody tr th {\n",
       "        vertical-align: top;\n",
       "    }\n",
       "\n",
       "    .dataframe thead th {\n",
       "        text-align: right;\n",
       "    }\n",
       "</style>\n",
       "<table border=\"1\" class=\"dataframe\">\n",
       "  <thead>\n",
       "    <tr style=\"text-align: right;\">\n",
       "      <th></th>\n",
       "      <th>Episode</th>\n",
       "      <th>1</th>\n",
       "      <th>2</th>\n",
       "      <th>3</th>\n",
       "      <th>4</th>\n",
       "      <th>5</th>\n",
       "      <th>6</th>\n",
       "      <th>7</th>\n",
       "      <th>8</th>\n",
       "      <th>9</th>\n",
       "      <th>...</th>\n",
       "      <th>767</th>\n",
       "      <th>768</th>\n",
       "      <th>769</th>\n",
       "      <th>770</th>\n",
       "      <th>771</th>\n",
       "      <th>772</th>\n",
       "      <th>773</th>\n",
       "      <th>774</th>\n",
       "      <th>775</th>\n",
       "      <th>Unnamed: 776</th>\n",
       "    </tr>\n",
       "  </thead>\n",
       "  <tbody>\n",
       "    <tr>\n",
       "      <th>0</th>\n",
       "      <td>S01E01 Winter Is Coming.srt</td>\n",
       "      <td>Easy, boy.</td>\n",
       "      <td>What do you expect? They're savages.</td>\n",
       "      <td>One lot steals a goat from another lot,</td>\n",
       "      <td>before you know it they're ripping each other ...</td>\n",
       "      <td>I've never seen wildlings do a thing like this.</td>\n",
       "      <td>I never seen a thing like this, not ever in my...</td>\n",
       "      <td>How close did you get?</td>\n",
       "      <td>Close as any man would. - we should head back ...</td>\n",
       "      <td>Do the dead frighten you?</td>\n",
       "      <td>...</td>\n",
       "      <td>NaN</td>\n",
       "      <td>NaN</td>\n",
       "      <td>NaN</td>\n",
       "      <td>NaN</td>\n",
       "      <td>NaN</td>\n",
       "      <td>NaN</td>\n",
       "      <td>NaN</td>\n",
       "      <td>NaN</td>\n",
       "      <td>NaN</td>\n",
       "      <td>NaN</td>\n",
       "    </tr>\n",
       "    <tr>\n",
       "      <th>1</th>\n",
       "      <td>S01E02 The Kingsroad.srt</td>\n",
       "      <td>You need to drink, child.</td>\n",
       "      <td>And eat.</td>\n",
       "      <td>Isn't there anything else?</td>\n",
       "      <td>The Dothraki have two things in abundance - gr...</td>\n",
       "      <td>People can't live on grass.</td>\n",
       "      <td>In the Shadow Lands beyond Asshai,</td>\n",
       "      <td>they say there are fields of ghost grass</td>\n",
       "      <td>with stalks as pale as milk that glow in the n...</td>\n",
       "      <td>It murders all other grass.</td>\n",
       "      <td>...</td>\n",
       "      <td>NaN</td>\n",
       "      <td>NaN</td>\n",
       "      <td>NaN</td>\n",
       "      <td>NaN</td>\n",
       "      <td>NaN</td>\n",
       "      <td>NaN</td>\n",
       "      <td>NaN</td>\n",
       "      <td>NaN</td>\n",
       "      <td>NaN</td>\n",
       "      <td>NaN</td>\n",
       "    </tr>\n",
       "    <tr>\n",
       "      <th>2</th>\n",
       "      <td>S01E03 Lord Snow.srt</td>\n",
       "      <td>Welcome, Lord Stark.</td>\n",
       "      <td>Grand Maester Pycelle has called a meeting of ...</td>\n",
       "      <td>The honour of your presence is requested.</td>\n",
       "      <td>Get the girls settled in. I'll be back in time...</td>\n",
       "      <td>And, Jory, you go with them. - Yes, my lord.</td>\n",
       "      <td>If you'd like to change into something more ap...</td>\n",
       "      <td>Thank the gods you're here, Stark.</td>\n",
       "      <td>About time we had some stern northern leadership.</td>\n",
       "      <td>Glad to see you're protecting the throne.</td>\n",
       "      <td>...</td>\n",
       "      <td>NaN</td>\n",
       "      <td>NaN</td>\n",
       "      <td>NaN</td>\n",
       "      <td>NaN</td>\n",
       "      <td>NaN</td>\n",
       "      <td>NaN</td>\n",
       "      <td>NaN</td>\n",
       "      <td>NaN</td>\n",
       "      <td>NaN</td>\n",
       "      <td>NaN</td>\n",
       "    </tr>\n",
       "    <tr>\n",
       "      <th>3</th>\n",
       "      <td>S01E04 Cripples, Bastards, And Broken Things.srt</td>\n",
       "      <td>The little lord's been dreaming again.</td>\n",
       "      <td>- We have visitors. - I don't want to see anyone.</td>\n",
       "      <td>Really? If I was cooped up all day</td>\n",
       "      <td>with no one but this old bat for company, I'd ...</td>\n",
       "      <td>Anyway, you don't have a choice. Robb's waiting.</td>\n",
       "      <td>- I don't want to go. - Neither do I.</td>\n",
       "      <td>But Robb's Lord of Winterfell,</td>\n",
       "      <td>which means I do what he says, and you do what...</td>\n",
       "      <td>Hodor!</td>\n",
       "      <td>...</td>\n",
       "      <td>NaN</td>\n",
       "      <td>NaN</td>\n",
       "      <td>NaN</td>\n",
       "      <td>NaN</td>\n",
       "      <td>NaN</td>\n",
       "      <td>NaN</td>\n",
       "      <td>NaN</td>\n",
       "      <td>NaN</td>\n",
       "      <td>NaN</td>\n",
       "      <td>NaN</td>\n",
       "    </tr>\n",
       "    <tr>\n",
       "      <th>4</th>\n",
       "      <td>S01E05 The Wolf And The Lion.srt</td>\n",
       "      <td>Does Ser Hugh have any family in the capital?</td>\n",
       "      <td>No.</td>\n",
       "      <td>I stood vigil for him myself last night.</td>\n",
       "      <td>He had no one else.</td>\n",
       "      <td>He'd never worn this armour before.</td>\n",
       "      <td>Bad luck for him - going against the Mountain.</td>\n",
       "      <td>Who determines the draw?</td>\n",
       "      <td>All the knights draw straws, Lord Stark.</td>\n",
       "      <td>Aye.</td>\n",
       "      <td>...</td>\n",
       "      <td>NaN</td>\n",
       "      <td>NaN</td>\n",
       "      <td>NaN</td>\n",
       "      <td>NaN</td>\n",
       "      <td>NaN</td>\n",
       "      <td>NaN</td>\n",
       "      <td>NaN</td>\n",
       "      <td>NaN</td>\n",
       "      <td>NaN</td>\n",
       "      <td>NaN</td>\n",
       "    </tr>\n",
       "  </tbody>\n",
       "</table>\n",
       "<p>5 rows × 777 columns</p>\n",
       "</div>"
      ],
      "text/plain": [
       "                                             Episode  \\\n",
       "0                        S01E01 Winter Is Coming.srt   \n",
       "1                           S01E02 The Kingsroad.srt   \n",
       "2                               S01E03 Lord Snow.srt   \n",
       "3   S01E04 Cripples, Bastards, And Broken Things.srt   \n",
       "4                   S01E05 The Wolf And The Lion.srt   \n",
       "\n",
       "                                               1  \\\n",
       "0                                     Easy, boy.   \n",
       "1                      You need to drink, child.   \n",
       "2                           Welcome, Lord Stark.   \n",
       "3         The little lord's been dreaming again.   \n",
       "4  Does Ser Hugh have any family in the capital?   \n",
       "\n",
       "                                                   2  \\\n",
       "0               What do you expect? They're savages.   \n",
       "1                                           And eat.   \n",
       "2  Grand Maester Pycelle has called a meeting of ...   \n",
       "3  - We have visitors. - I don't want to see anyone.   \n",
       "4                                                No.   \n",
       "\n",
       "                                           3  \\\n",
       "0    One lot steals a goat from another lot,   \n",
       "1                 Isn't there anything else?   \n",
       "2  The honour of your presence is requested.   \n",
       "3         Really? If I was cooped up all day   \n",
       "4   I stood vigil for him myself last night.   \n",
       "\n",
       "                                                   4  \\\n",
       "0  before you know it they're ripping each other ...   \n",
       "1  The Dothraki have two things in abundance - gr...   \n",
       "2  Get the girls settled in. I'll be back in time...   \n",
       "3  with no one but this old bat for company, I'd ...   \n",
       "4                                He had no one else.   \n",
       "\n",
       "                                                  5  \\\n",
       "0   I've never seen wildlings do a thing like this.   \n",
       "1                       People can't live on grass.   \n",
       "2      And, Jory, you go with them. - Yes, my lord.   \n",
       "3  Anyway, you don't have a choice. Robb's waiting.   \n",
       "4               He'd never worn this armour before.   \n",
       "\n",
       "                                                   6  \\\n",
       "0  I never seen a thing like this, not ever in my...   \n",
       "1                 In the Shadow Lands beyond Asshai,   \n",
       "2  If you'd like to change into something more ap...   \n",
       "3              - I don't want to go. - Neither do I.   \n",
       "4     Bad luck for him - going against the Mountain.   \n",
       "\n",
       "                                          7  \\\n",
       "0                    How close did you get?   \n",
       "1  they say there are fields of ghost grass   \n",
       "2        Thank the gods you're here, Stark.   \n",
       "3            But Robb's Lord of Winterfell,   \n",
       "4                  Who determines the draw?   \n",
       "\n",
       "                                                   8  \\\n",
       "0  Close as any man would. - we should head back ...   \n",
       "1  with stalks as pale as milk that glow in the n...   \n",
       "2  About time we had some stern northern leadership.   \n",
       "3  which means I do what he says, and you do what...   \n",
       "4           All the knights draw straws, Lord Stark.   \n",
       "\n",
       "                                           9  ...  767  768  769  770  771  \\\n",
       "0                  Do the dead frighten you?  ...  NaN  NaN  NaN  NaN  NaN   \n",
       "1                It murders all other grass.  ...  NaN  NaN  NaN  NaN  NaN   \n",
       "2  Glad to see you're protecting the throne.  ...  NaN  NaN  NaN  NaN  NaN   \n",
       "3                                     Hodor!  ...  NaN  NaN  NaN  NaN  NaN   \n",
       "4                                       Aye.  ...  NaN  NaN  NaN  NaN  NaN   \n",
       "\n",
       "   772  773  774  775 Unnamed: 776  \n",
       "0  NaN  NaN  NaN  NaN          NaN  \n",
       "1  NaN  NaN  NaN  NaN          NaN  \n",
       "2  NaN  NaN  NaN  NaN          NaN  \n",
       "3  NaN  NaN  NaN  NaN          NaN  \n",
       "4  NaN  NaN  NaN  NaN          NaN  \n",
       "\n",
       "[5 rows x 777 columns]"
      ]
     },
     "execution_count": 6,
     "metadata": {},
     "output_type": "execute_result"
    }
   ],
   "source": [
    "data.head(5)"
   ]
  },
  {
   "cell_type": "code",
   "execution_count": 7,
   "metadata": {},
   "outputs": [],
   "source": [
    "data = pd.DataFrame(data)"
   ]
  },
  {
   "cell_type": "code",
   "execution_count": 8,
   "metadata": {},
   "outputs": [
    {
     "data": {
      "text/html": [
       "<div>\n",
       "<style scoped>\n",
       "    .dataframe tbody tr th:only-of-type {\n",
       "        vertical-align: middle;\n",
       "    }\n",
       "\n",
       "    .dataframe tbody tr th {\n",
       "        vertical-align: top;\n",
       "    }\n",
       "\n",
       "    .dataframe thead th {\n",
       "        text-align: right;\n",
       "    }\n",
       "</style>\n",
       "<table border=\"1\" class=\"dataframe\">\n",
       "  <thead>\n",
       "    <tr style=\"text-align: right;\">\n",
       "      <th></th>\n",
       "      <th>Episode</th>\n",
       "      <th>1</th>\n",
       "      <th>2</th>\n",
       "      <th>3</th>\n",
       "      <th>4</th>\n",
       "      <th>5</th>\n",
       "      <th>6</th>\n",
       "      <th>7</th>\n",
       "      <th>8</th>\n",
       "      <th>9</th>\n",
       "      <th>...</th>\n",
       "      <th>767</th>\n",
       "      <th>768</th>\n",
       "      <th>769</th>\n",
       "      <th>770</th>\n",
       "      <th>771</th>\n",
       "      <th>772</th>\n",
       "      <th>773</th>\n",
       "      <th>774</th>\n",
       "      <th>775</th>\n",
       "      <th>Unnamed: 776</th>\n",
       "    </tr>\n",
       "  </thead>\n",
       "  <tbody>\n",
       "    <tr>\n",
       "      <th>0</th>\n",
       "      <td>S01E01 Winter Is Coming.srt</td>\n",
       "      <td>Easy, boy.</td>\n",
       "      <td>What do you expect? They're savages.</td>\n",
       "      <td>One lot steals a goat from another lot,</td>\n",
       "      <td>before you know it they're ripping each other ...</td>\n",
       "      <td>I've never seen wildlings do a thing like this.</td>\n",
       "      <td>I never seen a thing like this, not ever in my...</td>\n",
       "      <td>How close did you get?</td>\n",
       "      <td>Close as any man would. - we should head back ...</td>\n",
       "      <td>Do the dead frighten you?</td>\n",
       "      <td>...</td>\n",
       "      <td>NaN</td>\n",
       "      <td>NaN</td>\n",
       "      <td>NaN</td>\n",
       "      <td>NaN</td>\n",
       "      <td>NaN</td>\n",
       "      <td>NaN</td>\n",
       "      <td>NaN</td>\n",
       "      <td>NaN</td>\n",
       "      <td>NaN</td>\n",
       "      <td>NaN</td>\n",
       "    </tr>\n",
       "  </tbody>\n",
       "</table>\n",
       "<p>1 rows × 777 columns</p>\n",
       "</div>"
      ],
      "text/plain": [
       "                        Episode           1  \\\n",
       "0   S01E01 Winter Is Coming.srt  Easy, boy.   \n",
       "\n",
       "                                      2  \\\n",
       "0  What do you expect? They're savages.   \n",
       "\n",
       "                                         3  \\\n",
       "0  One lot steals a goat from another lot,   \n",
       "\n",
       "                                                   4  \\\n",
       "0  before you know it they're ripping each other ...   \n",
       "\n",
       "                                                 5  \\\n",
       "0  I've never seen wildlings do a thing like this.   \n",
       "\n",
       "                                                   6                       7  \\\n",
       "0  I never seen a thing like this, not ever in my...  How close did you get?   \n",
       "\n",
       "                                                   8  \\\n",
       "0  Close as any man would. - we should head back ...   \n",
       "\n",
       "                           9  ...  767  768  769  770  771  772  773  774  \\\n",
       "0  Do the dead frighten you?  ...  NaN  NaN  NaN  NaN  NaN  NaN  NaN  NaN   \n",
       "\n",
       "   775 Unnamed: 776  \n",
       "0  NaN          NaN  \n",
       "\n",
       "[1 rows x 777 columns]"
      ]
     },
     "execution_count": 8,
     "metadata": {},
     "output_type": "execute_result"
    }
   ],
   "source": [
    "data.iloc[:1]"
   ]
  },
  {
   "cell_type": "code",
   "execution_count": 9,
   "metadata": {},
   "outputs": [],
   "source": [
    " def seasonLine(season, line, df=data):\n",
    "        num = season - 1\n",
    "        x = df.iloc[num, line]\n",
    "        return x "
   ]
  },
  {
   "cell_type": "code",
   "execution_count": 10,
   "metadata": {},
   "outputs": [
    {
     "data": {
      "text/plain": [
       "' S01E01 Winter Is Coming.srt'"
      ]
     },
     "execution_count": 10,
     "metadata": {},
     "output_type": "execute_result"
    }
   ],
   "source": [
    "seasonLine(1, 0, df=data)"
   ]
  },
  {
   "cell_type": "code",
   "execution_count": 11,
   "metadata": {},
   "outputs": [],
   "source": [
    "def seasonTokens(episode, df=data):\n",
    "    '''\n",
    "    episode - epiode number 1 - 69 \n",
    "    \n",
    "    Output - lineList - list of all the lines from an episode  '''\n",
    "    \n",
    "    x = 1\n",
    "    \n",
    "    lineList = []\n",
    "    \n",
    "    tokens = []\n",
    "    \n",
    "    wordline = 'hold'\n",
    "    \n",
    "    while isinstance(wordline, str):\n",
    "    \n",
    "        wordline = seasonLine(episode, x, df=data)\n",
    "               \n",
    "        lineList.append(wordline)\n",
    "        \n",
    "        x += 1 \n",
    "        \n",
    "    for y in lineList:\n",
    "        \n",
    "        bite = str(y).split()\n",
    "        \n",
    "        tokens = tokens + bite \n",
    "    \n",
    "    return lineList   "
   ]
  },
  {
   "cell_type": "code",
   "execution_count": 12,
   "metadata": {},
   "outputs": [
    {
     "data": {
      "text/plain": [
       "['Easy, boy.',\n",
       " \"What do you expect? They're savages.\",\n",
       " 'One lot steals a goat from another lot,',\n",
       " \"before you know it they're ripping each other to pieces.\",\n",
       " \"I've never seen wildlings do a thing like this.\"]"
      ]
     },
     "execution_count": 12,
     "metadata": {},
     "output_type": "execute_result"
    }
   ],
   "source": [
    "firstFiveLinesofEpisode1 = seasonTokens(1, df=data)\n",
    "firstFiveLinesofEpisode1[:5]"
   ]
  },
  {
   "cell_type": "code",
   "execution_count": 13,
   "metadata": {},
   "outputs": [],
   "source": [
    "def combineEpisodses(begin, end):\n",
    "    '''combine episodes into single entry list'''\n",
    "    \n",
    "    allEpisodes = []\n",
    "    episodeString = ''\n",
    "    allString = ''\n",
    "    \n",
    "    for x in range(begin, end):\n",
    "        \n",
    "        episode = seasonTokens(x, df=data)\n",
    "        y = 0\n",
    "        \n",
    "        while isinstance(episode[y], str):\n",
    "            \n",
    "            episodeString = episodeString +\" \"+ str(episode[y])\n",
    "            \n",
    "            y += 1\n",
    "        \n",
    "        allString = allString +\" \"+ episodeString\n",
    "            \n",
    "    allEpisodes.append(allString)\n",
    "    \n",
    "    return allEpisodes      "
   ]
  },
  {
   "cell_type": "code",
   "execution_count": 14,
   "metadata": {},
   "outputs": [
    {
     "name": "stdout",
     "output_type": "stream",
     "text": [
      "  Easy, boy. What do you expect? They're savages. One lot steals a goat from another lot, before you know it they're ripping each other to pieces. I've never seen wildlings do a thing like this. I never seen a thing like this, not ever in my life. How close did you get? Close as any man would. - we should head back to the Wall. Do the dead frighten you? Our orders were to track the wildlings. We tracked them. They won't trouble us no more. You don't think he'll ask us how they died? Get back on your horse. Whatever did it to them could do it to us. They even killed the children. It's a good thing we're not children. You want to run away south, run away. Of course, they will behead you as a deserter. If I don't catch you first. Get back on your horse. I won't say it again. Your dead men seem to have moved camp. They were here. See where they went. What is it? It's... Go on, Father's watching. And your mother. Fine work, as always. Well done. Thank you. I love the detail that you've managed to get in these corners. Quite beautiful. The stitching... Oh, no, no, no. This stitch is very... - It's beautiful. - Thank you. And which one of you was a marksman at ten? Keep practicing, Bran. Go on. Don't think too much, Bran. Relax your bow arm. - Quick, Bran! - Faster. Lord Stark! My lady. A guardsman just rode in from the hills. They've captured a deserter from the Night's Watch. Get the lads to saddle their horses. Do you have to? He swore an oath, Cat. Law is law, my lady. Tell Bran he's coming too. Ned. Ten is too young to see such things. He won't be a boy forever. And winter is coming. Good lad, go run back and get the rest. White walkers. I saw the white walkers. White walkers. The white walkers, I saw them. I know I broke my oath. And I know I'm a deserter. I should have gone back to the Wall and warned them, but... I saw what I saw. I saw the white walkers. People need to know. If you can get word to my family... tell them I'm no coward. Tell them I'm sorry. Forgive \n"
     ]
    }
   ],
   "source": [
    "seasonOne = combineEpisodses(1, 10)\n",
    "print(seasonOne[0][:2000])"
   ]
  },
  {
   "cell_type": "code",
   "execution_count": 15,
   "metadata": {},
   "outputs": [
    {
     "name": "stdout",
     "output_type": "stream",
     "text": [
      "  Easy, boy. What do you expect? They're savages. One lot steals a goat from another lot, before you know it they're ripping each other to pieces. I've never seen wildlings do a thing like this. I never seen a thing like this, not ever in my life. How close did you get? Close as any man would. - we should head back to the Wall. Do the dead frighten you? Our orders were to track the wildlings. We tracked them. They won't trouble us no more. You don't think he'll ask us how they died? Get back on your horse. Whatever did it to them could do it to us. They even killed the children. It's a good thing we're not children. You want to run away south, run away. Of course, they will behead you as a deserter. If I don't catch you first. Get back on your horse. I won't say it again. Your dead men seem to have moved camp. They were here. See where they went. What is it? It's... Go on, Father's watching. And your mother. Fine work, as always. Well done. Thank you. I love the detail that you've managed to get in these corners. Quite beautiful. The stitching... Oh, no, no, no. This stitch is very... - It's beautiful. - Thank you. And which one of you was a marksman at ten? Keep practicing, Bran. Go on. Don't think too much, Bran. Relax your bow arm. - Quick, Bran! - Faster. Lord Stark! My lady. A guardsman just rode in from the hills. They've captured a deserter from the Night's Watch. Get the lads to saddle their horses. Do you have to? He swore an oath, Cat. Law is law, my lady. Tell Bran he's coming too. Ned. Ten is too young to see such things. He won't be a boy forever. And winter is coming. Good lad, go run back and get the rest. White walkers. I saw the white walkers. White walkers. The white walkers, I saw them. I know I broke my oath. And I know I'm a deserter. I should have gone back to the Wall and warned them, but... I saw what I saw. I saw the white walkers. People need to know. If you can get word to my family... tell them I'm no coward. Tell them I'm sorry. Forgive \n"
     ]
    }
   ],
   "source": [
    "episodeOne = combineEpisodses(1, 2)\n",
    "print(episodeOne[0][:2000])"
   ]
  },
  {
   "cell_type": "code",
   "execution_count": 16,
   "metadata": {},
   "outputs": [],
   "source": [
    "#import nltk\n",
    "#nltk.download('punkt')"
   ]
  },
  {
   "cell_type": "code",
   "execution_count": 17,
   "metadata": {},
   "outputs": [
    {
     "name": "stderr",
     "output_type": "stream",
     "text": [
      "/home/ec2-user/anaconda2/lib/python2.7/site-packages/theano/configdefaults.py:560: UserWarning: DeprecationWarning: there is no c++ compiler.This is deprecated and with Theano 0.11 a c++ compiler will be mandatory\n",
      "  warnings.warn(\"DeprecationWarning: there is no c++ compiler.\"\n",
      "WARNING (theano.configdefaults): g++ not detected ! Theano will be unable to execute optimized C-implementations (for both CPU and GPU) and will default to Python implementations. Performance will be severely degraded. To remove this warning, set Theano flags cxx to an empty string.\n",
      "WARNING (theano.tensor.blas): Using NumPy C-API based implementation for BLAS functions.\n"
     ]
    }
   ],
   "source": [
    "import skipthoughts"
   ]
  },
  {
   "cell_type": "code",
   "execution_count": 18,
   "metadata": {},
   "outputs": [
    {
     "name": "stdout",
     "output_type": "stream",
     "text": [
      "Loading model parameters...\n",
      "Compiling encoders...\n",
      "Loading tables...\n",
      "Packing up...\n"
     ]
    }
   ],
   "source": [
    "\n",
    "import skip_thoughts\n",
    "model = skipthoughts.load_model()\n",
    "encoder = skipthoughts.Encoder(model)\n"
   ]
  },
  {
   "cell_type": "code",
   "execution_count": 19,
   "metadata": {},
   "outputs": [],
   "source": [
    "def skipthought_encode(emails):\n",
    "    \"\"\"\n",
    "    Obtains sentence embeddings for each sentence in the emails\n",
    "    \"\"\"\n",
    "    enc_emails = [None]*len(emails)\n",
    "    cum_sum_sentences = [0]\n",
    "    sent_count = 0\n",
    "    for email in emails:\n",
    "        sent_count += len(email)\n",
    "        cum_sum_sentences.append(sent_count)\n",
    "\n",
    "    all_sentences = [sent for email in emails for sent in email]\n",
    "    print('Loading pre-trained models...')\n",
    "    model = skipthoughts.load_model()\n",
    "    encoder = skipthoughts.Encoder(model)\n",
    "    print('Encoding sentences...')\n",
    "    enc_sentences = encoder.encode(all_sentences, verbose=False)\n",
    "\n",
    "    for i in range(len(emails)):\n",
    "        begin = cum_sum_sentences[i]\n",
    "        end = cum_sum_sentences[i+1]\n",
    "        enc_emails[i] = enc_sentences[begin:end]\n",
    "    return enc_emails"
   ]
  },
  {
   "cell_type": "code",
   "execution_count": 20,
   "metadata": {},
   "outputs": [],
   "source": [
    "def preprocess(emails):\n",
    "    \"\"\"\n",
    "    Performs preprocessing operations such as:\n",
    "        1. Removing signature lines (only English emails are supported)\n",
    "        2. Removing new line characters.\n",
    "    \"\"\"\n",
    "    n_emails = len(emails)\n",
    "    for i in range(n_emails):\n",
    "        email = emails[i]\n",
    "        #email, _ = extract_signature(email)\n",
    "        lines = email.split('\\n')\n",
    "        for j in reversed(range(len(lines))):\n",
    "            lines[j] = lines[j].strip()\n",
    "            if lines[j] == '':\n",
    "                lines.pop(j)\n",
    "        emails[i] = ' '.join(lines)"
   ]
  },
  {
   "cell_type": "code",
   "execution_count": 21,
   "metadata": {},
   "outputs": [],
   "source": [
    "def split_sentences(emails):\n",
    "    \"\"\"\n",
    "    Splits the emails into individual sentences...list of list\n",
    "    \"\"\"\n",
    "    n_emails = len(emails)\n",
    "    for i in range(n_emails):\n",
    "        email = emails[i]\n",
    "        sentences = sent_tokenize(email)\n",
    "        for j in reversed(range(len(sentences))):\n",
    "            sent = sentences[j]\n",
    "            sentences[j] = sent.strip()\n",
    "            if sent == '':\n",
    "                sentences.pop(j)\n",
    "        emails[i] = sentences"
   ]
  },
  {
   "cell_type": "code",
   "execution_count": 22,
   "metadata": {},
   "outputs": [],
   "source": [
    "def summarize(emails):\n",
    "    \"\"\"\n",
    "    Performs summarization of emails\n",
    "    \"\"\"\n",
    "    n_emails = len(emails)\n",
    "    summary = [None]*n_emails\n",
    "    print('Preprocessing...')\n",
    "    preprocess(emails)\n",
    "    print('Splitting into sentences...')\n",
    "    split_sentences(emails)\n",
    "    print('Starting to encode...')\n",
    "    enc_emails = skipthought_encode(emails)\n",
    "    print('Encoding Finished')\n",
    "    for i in range(n_emails):\n",
    "        enc_email = enc_emails[i]        \n",
    "        n_clusters = int(np.ceil(len(enc_email)**.5))\n",
    "        print('# number of clusters', n_clusters)\n",
    "        kmeans = KMeans(n_clusters=n_clusters, random_state=0)\n",
    "        kmeans = kmeans.fit(enc_email)\n",
    "        avg = []\n",
    "        closest = []\n",
    "        for j in range(n_clusters):\n",
    "            idx = np.where(kmeans.labels_ == j)[0]\n",
    "            avg.append(np.mean(idx))\n",
    "        closest, _ = pairwise_distances_argmin_min(kmeans.cluster_centers_,\\\n",
    "                                                   enc_email)\n",
    "        ordering = sorted(range(n_clusters), key=lambda k: avg[k])\n",
    "        summary[i] = ' '.join([emails[i][closest[idx]] for idx in ordering])\n",
    "    print('Clustering Finished')\n",
    "    return summary"
   ]
  },
  {
   "cell_type": "code",
   "execution_count": 23,
   "metadata": {},
   "outputs": [
    {
     "name": "stdout",
     "output_type": "stream",
     "text": [
      "Preprocessing...\n",
      "Splitting into sentences...\n",
      "Starting to encode...\n",
      "Loading pre-trained models...\n",
      "Loading model parameters...\n",
      "Compiling encoders...\n",
      "Loading tables...\n",
      "Packing up...\n",
      "Encoding sentences...\n",
      "Encoding Finished\n",
      "('# number of clusters', 24)\n",
      "Clustering Finished\n",
      "('Episode: ', 1)\n",
      "I saw the white walkers. ...King of the Andals and the First Men... - Father will know if you do. You still slouch. Where is he? No, Your Grace. - No? Where is he going? No, Your Grace. It's a direwolf. And I know I'm a deserter. Lord Eddard Stark... You still slouch. - Oh. Now you want Ned to take the job? And I know I'm a deserter. Your Grace. - Quick, Bran! Of course, they will behead you as a deserter. The Dothraki are not known for their punctuality. Stop! No. I don't know how to say \"thank you\" in Dothraki. Is this your first time in the North, Your Grace? - It's all right.\n"
     ]
    }
   ],
   "source": [
    "#10 percent summary of episode 1 from season 1 ~ unordered \n",
    "\n",
    "for x in range (1,2):\n",
    "    '''Season 1'''\n",
    "    episode = combineEpisodses(x, x+1)\n",
    "    \n",
    "    summary = summarize(episode)\n",
    "    \n",
    "    print(\"Episode: \",x)\n",
    "    \n",
    "    print(summary[0])   \n",
    "  "
   ]
  },
  {
   "cell_type": "code",
   "execution_count": 24,
   "metadata": {},
   "outputs": [],
   "source": [
    "S1E1 = seasonTokens(1, df=data)"
   ]
  },
  {
   "cell_type": "code",
   "execution_count": 25,
   "metadata": {},
   "outputs": [
    {
     "data": {
      "text/plain": [
       "560"
      ]
     },
     "execution_count": 25,
     "metadata": {},
     "output_type": "execute_result"
    }
   ],
   "source": [
    "len(S1E1)"
   ]
  },
  {
   "cell_type": "code",
   "execution_count": 26,
   "metadata": {},
   "outputs": [
    {
     "data": {
      "text/plain": [
       "['Easy, boy.',\n",
       " \"What do you expect? They're savages.\",\n",
       " 'One lot steals a goat from another lot,',\n",
       " \"before you know it they're ripping each other to pieces.\",\n",
       " \"I've never seen wildlings do a thing like this.\"]"
      ]
     },
     "execution_count": 26,
     "metadata": {},
     "output_type": "execute_result"
    }
   ],
   "source": [
    "S1E1[:5]"
   ]
  },
  {
   "cell_type": "code",
   "execution_count": 27,
   "metadata": {},
   "outputs": [],
   "source": [
    "# divide total number of lines by desired number of clusters \n",
    "#  X groups of Y lines a piece each are clustered  "
   ]
  },
  {
   "cell_type": "code",
   "execution_count": 28,
   "metadata": {},
   "outputs": [],
   "source": [
    "\n",
    "list_sub = []\n",
    "\n",
    "sub = []\n",
    "\n",
    "sub_string = ''\n",
    "\n",
    "# the number of groups \n",
    "for x in range(4):\n",
    "    # for each group accumulate lines \n",
    "    sub_string = ''\n",
    "    sub = []\n",
    "    # 10 is the number of lines per group\n",
    "    for y in range (140):\n",
    "        \n",
    "        z = (x * 10) + y \n",
    "        \n",
    "        sub_string += str(S1E1[z])\n",
    "        \n",
    "    sub_hold = sub_string \n",
    "           \n",
    "    list_sub.insert(x,sub_hold)\n",
    "        \n",
    "        "
   ]
  },
  {
   "cell_type": "code",
   "execution_count": 29,
   "metadata": {},
   "outputs": [
    {
     "data": {
      "text/plain": [
       "'We tracked them. They won\\'t trouble us no more.You don\\'t think he\\'ll ask us how they died?Get back on your horse.Whatever did it to them could do it to us.They even killed the children.It\\'s a good thing we\\'re not children.You want to run away south, run away.Of course, they will behead you as a deserter.If I don\\'t catch you first.Get back on your horse.I won\\'t say it again.Your dead men seem to have moved camp.They were here.See where they went.What is it?It\\'s...Go on, Father\\'s watching.And your mother.Fine work, as always. Well done.Thank you.I love the detail that you\\'ve managed to get in these corners.Quite beautiful.The stitching...Oh, no, no, no. This stitch is very...- It\\'s beautiful. - Thank you.And which one of you was a marksman at ten?Keep practicing, Bran.Go on.Don\\'t think too much, Bran.Relax your bow arm.- Quick, Bran! - Faster.Lord Stark!My lady.A guardsman just rode in from the hills.They\\'ve captured a deserter from the Night\\'s Watch.Get the lads to saddle their horses.Do you have to?He swore an oath, Cat.Law is law, my lady.Tell Bran he\\'s coming too.Ned.Ten is too young to see such things.He won\\'t be a boy forever.And winter is coming.Good lad, go run back and get the rest.White walkers.I saw the white walkers.White walkers.The white walkers, I saw them.I know I broke my oath.And I know I\\'m a deserter.I should have gone back to the Wall and warned them, but...I saw what I saw.I saw the white walkers.People need to know.If you can get word to my family...tell them I\\'m no coward.Tell them I\\'m sorry.Forgive me, Lord.In the name of Robert of the House Baratheon,- the first of his name... - Don\\'t look away....King of the Andals and the First Men... - Father will know if you do....Lord of the Seven Kingdoms and protector of the realm,I, Eddard of the House Stark,Lord of Winterfell and Warden of the North,sentence you to die.You did well.You understand why I did it?Jon said he was a deserter.But do you understand why I had to kill him?\"Our way is the old way\"?The man who passes the sentence should swing the sword.Is it true he saw the white walkers?The white walkers have been gone for thousands of years.So he was lying?A madman sees what he sees.What is it?Mountain lion?There are no mountain lions in these woods.It\\'s a freak.It\\'s a direwolf.Tough old beast.There are no direwolves south of the Wall.Now there are five.You want to hold it?Where will they go?Their mother\\'s dead.They don\\'t belong down here.Better a quick death. They won\\'t last without their mother.- Right. Give it here. - No!Put away your blade.- I take orders from your father, not you. - Please, Father!I\\'m sorry, Bran.Lord Stark?There are five pups.One for each of the Stark children.The direwolf is the sigil of your house.They were meant to have them.You will train them yourselves.You will feed them yourselves.And if they die, you will bury them yourselves.What about you?I\\'m not a Stark.Get on.What is it?The runt of the litter. That one\\'s yours, Snow.As your brother, I feel it\\'s my duty to warn you...you worry too much.- It\\'s starting to show. - And you never worry about anything.When we were seven and you jumped off the cliffs at Casterly Rock,100-foot drop into the water... you were never afraid.There was nothing to be afraid of until you told Father.\"We\\'re Lannisters. Lannisters don\\'t act like fools.\"What if Jon Arryn told someone? - But who would he tell?My husband.If he told the king, both our heads would be skewered on the city gates by now.Whatever Jon Arryn knew or didn\\'t know, it died with him.And Robert will choose a new Hand of the King,someone to do his job while he\\'s off fucking boars and hunting whores.Or is it the other way around?And life will go on.You should be the Hand of the King.That\\'s an honour I can do without.Their days are too long,their lives are too short.All these years,and I still feel like an outsider when I come here.You have five northern children.You\\'re not an outsider.I wonder if the old gods agree.It\\'s your gods with all the rules.I am so sorry, my love.- Tell me. - There was a raven from King\\'s Landing.Jon Arryn is dead.A fever took him.I know he was like a father to you.- Your sister, the boy? - They both have their health,gods be good.The raven brought more news.The king rides for Winterfell...'"
      ]
     },
     "execution_count": 29,
     "metadata": {},
     "output_type": "execute_result"
    }
   ],
   "source": [
    "list_sub[0]"
   ]
  },
  {
   "cell_type": "code",
   "execution_count": 30,
   "metadata": {},
   "outputs": [
    {
     "data": {
      "text/plain": [
       "['Easy, boy.What do you expect? They\\'re savages.One lot steals a goat from another lot,before you know it they\\'re ripping each other to pieces.I\\'ve never seen wildlings do a thing like this.I never seen a thing like this, not ever in my life.How close did you get?Close as any man would. - we should head back to the Wall.Do the dead frighten you?Our orders were to track the wildlings.We tracked them. They won\\'t trouble us no more.You don\\'t think he\\'ll ask us how they died?Get back on your horse.Whatever did it to them could do it to us.They even killed the children.It\\'s a good thing we\\'re not children.You want to run away south, run away.Of course, they will behead you as a deserter.If I don\\'t catch you first.Get back on your horse.I won\\'t say it again.Your dead men seem to have moved camp.They were here.See where they went.What is it?It\\'s...Go on, Father\\'s watching.And your mother.Fine work, as always. Well done.Thank you.I love the detail that you\\'ve managed to get in these corners.Quite beautiful.The stitching...Oh, no, no, no. This stitch is very...- It\\'s beautiful. - Thank you.And which one of you was a marksman at ten?Keep practicing, Bran.Go on.Don\\'t think too much, Bran.Relax your bow arm.- Quick, Bran! - Faster.Lord Stark!My lady.A guardsman just rode in from the hills.They\\'ve captured a deserter from the Night\\'s Watch.Get the lads to saddle their horses.Do you have to?He swore an oath, Cat.Law is law, my lady.Tell Bran he\\'s coming too.Ned.Ten is too young to see such things.He won\\'t be a boy forever.And winter is coming.Good lad, go run back and get the rest.White walkers.I saw the white walkers.White walkers.The white walkers, I saw them.I know I broke my oath.And I know I\\'m a deserter.I should have gone back to the Wall and warned them, but...I saw what I saw.I saw the white walkers.People need to know.If you can get word to my family...tell them I\\'m no coward.Tell them I\\'m sorry.Forgive me, Lord.In the name of Robert of the House Baratheon,- the first of his name... - Don\\'t look away....King of the Andals and the First Men... - Father will know if you do....Lord of the Seven Kingdoms and protector of the realm,I, Eddard of the House Stark,Lord of Winterfell and Warden of the North,sentence you to die.You did well.You understand why I did it?Jon said he was a deserter.But do you understand why I had to kill him?\"Our way is the old way\"?The man who passes the sentence should swing the sword.Is it true he saw the white walkers?The white walkers have been gone for thousands of years.So he was lying?A madman sees what he sees.What is it?Mountain lion?There are no mountain lions in these woods.It\\'s a freak.It\\'s a direwolf.Tough old beast.There are no direwolves south of the Wall.Now there are five.You want to hold it?Where will they go?Their mother\\'s dead.They don\\'t belong down here.Better a quick death. They won\\'t last without their mother.- Right. Give it here. - No!Put away your blade.- I take orders from your father, not you. - Please, Father!I\\'m sorry, Bran.Lord Stark?There are five pups.One for each of the Stark children.The direwolf is the sigil of your house.They were meant to have them.You will train them yourselves.You will feed them yourselves.And if they die, you will bury them yourselves.What about you?I\\'m not a Stark.Get on.What is it?The runt of the litter. That one\\'s yours, Snow.As your brother, I feel it\\'s my duty to warn you...you worry too much.- It\\'s starting to show. - And you never worry about anything.When we were seven and you jumped off the cliffs at Casterly Rock,100-foot drop into the water... you were never afraid.There was nothing to be afraid of until you told Father.\"We\\'re Lannisters. Lannisters don\\'t act like fools.\"What if Jon Arryn told someone? - But who would he tell?My husband.If he told the king, both our heads would be skewered on the city gates by now.Whatever Jon Arryn knew or didn\\'t know, it died with him.And Robert will choose a new Hand of the King,someone to do his job while he\\'s off fucking boars and hunting whores.Or is it the other way around?And life will go on.You should be the Hand of the King.That\\'s an honour I can do without.Their days are too long,their lives are too short.All these years,and I still feel like an outsider when I come here.You have five northern children.You\\'re not an outsider.I wonder if the old gods agree. ']"
      ]
     },
     "execution_count": 30,
     "metadata": {},
     "output_type": "execute_result"
    }
   ],
   "source": [
    "coverted_first_group = []\n",
    "first_group = list_sub[0]\n",
    "coverted_first_group.append(first_group+' ')\n",
    "coverted_first_group"
   ]
  },
  {
   "cell_type": "code",
   "execution_count": 31,
   "metadata": {},
   "outputs": [
    {
     "data": {
      "text/plain": [
       "4"
      ]
     },
     "execution_count": 31,
     "metadata": {},
     "output_type": "execute_result"
    }
   ],
   "source": [
    "# of groups to be clsutered \n",
    "len(list_sub)"
   ]
  },
  {
   "cell_type": "code",
   "execution_count": 32,
   "metadata": {},
   "outputs": [
    {
     "name": "stdout",
     "output_type": "stream",
     "text": [
      "Preprocessing...\n",
      "Splitting into sentences...\n",
      "Starting to encode...\n",
      "Loading pre-trained models...\n",
      "Loading model parameters...\n",
      "Compiling encoders...\n",
      "Loading tables...\n",
      "Packing up...\n",
      "Encoding sentences...\n",
      "Encoding Finished\n",
      "('# number of clusters', 5)\n",
      "Clustering Finished\n"
     ]
    }
   ],
   "source": [
    "test = summarize(coverted_first_group)"
   ]
  },
  {
   "cell_type": "code",
   "execution_count": 33,
   "metadata": {},
   "outputs": [
    {
     "data": {
      "text/plain": [
       "'They won\\'t trouble us no more.You don\\'t think he\\'ll ask us how they died?Get back on your horse.Whatever did it to them could do it to us.They even killed the children.It\\'s a good thing we\\'re not children.You want to run away south, run away.Of course, they will behead you as a deserter.If I don\\'t catch you first.Get back on your horse.I won\\'t say it again.Your dead men seem to have moved camp.They were here.See where they went.What is it?It\\'s...Go on, Father\\'s watching.And your mother.Fine work, as always. They won\\'t last without their mother.- Right. \"Our way is the old way\"?The man who passes the sentence should swing the sword.Is it true he saw the white walkers?The white walkers have been gone for thousands of years.So he was lying?A madman sees what he sees.What is it?Mountain lion?There are no mountain lions in these woods.It\\'s a freak.It\\'s a direwolf.Tough old beast.There are no direwolves south of the Wall.Now there are five.You want to hold it?Where will they go?Their mother\\'s dead.They don\\'t belong down here.Better a quick death. \"What if Jon Arryn told someone? - we should head back to the Wall.Do the dead frighten you?Our orders were to track the wildlings.We tracked them.'"
      ]
     },
     "execution_count": 33,
     "metadata": {},
     "output_type": "execute_result"
    }
   ],
   "source": [
    "test[0]"
   ]
  },
  {
   "cell_type": "code",
   "execution_count": 34,
   "metadata": {},
   "outputs": [
    {
     "data": {
      "text/plain": [
       "'Easy, boy.What do you expect? They\\'re savages.One lot steals a goat from another lot,before you know it they\\'re ripping each other to pieces.I\\'ve never seen wildlings do a thing like this.I never seen a thing like this, not ever in my life.How close did you get?Close as any man would. - we should head back to the Wall.Do the dead frighten you?Our orders were to track the wildlings.We tracked them. They won\\'t trouble us no more.You don\\'t think he\\'ll ask us how they died?Get back on your horse.Whatever did it to them could do it to us.They even killed the children.It\\'s a good thing we\\'re not children.You want to run away south, run away.Of course, they will behead you as a deserter.If I don\\'t catch you first.Get back on your horse.I won\\'t say it again.Your dead men seem to have moved camp.They were here.See where they went.What is it?It\\'s...Go on, Father\\'s watching.And your mother.Fine work, as always. Well done.Thank you.I love the detail that you\\'ve managed to get in these corners.Quite beautiful.The stitching...Oh, no, no, no. This stitch is very...- It\\'s beautiful. - Thank you.And which one of you was a marksman at ten?Keep practicing, Bran.Go on.Don\\'t think too much, Bran.Relax your bow arm.- Quick, Bran! - Faster.Lord Stark!My lady.A guardsman just rode in from the hills.They\\'ve captured a deserter from the Night\\'s Watch.Get the lads to saddle their horses.Do you have to?He swore an oath, Cat.Law is law, my lady.Tell Bran he\\'s coming too.Ned.Ten is too young to see such things.He won\\'t be a boy forever.And winter is coming.Good lad, go run back and get the rest.White walkers.I saw the white walkers.White walkers.The white walkers, I saw them.I know I broke my oath.And I know I\\'m a deserter.I should have gone back to the Wall and warned them, but...I saw what I saw.I saw the white walkers.People need to know.If you can get word to my family...tell them I\\'m no coward.Tell them I\\'m sorry.Forgive me, Lord.In the name of Robert of the House Baratheon,- the first of his name... - Don\\'t look away....King of the Andals and the First Men... - Father will know if you do....Lord of the Seven Kingdoms and protector of the realm,I, Eddard of the House Stark,Lord of Winterfell and Warden of the North,sentence you to die.You did well.You understand why I did it?Jon said he was a deserter.But do you understand why I had to kill him?\"Our way is the old way\"?The man who passes the sentence should swing the sword.Is it true he saw the white walkers?The white walkers have been gone for thousands of years.So he was lying?A madman sees what he sees.What is it?Mountain lion?There are no mountain lions in these woods.It\\'s a freak.It\\'s a direwolf.Tough old beast.There are no direwolves south of the Wall.Now there are five.You want to hold it?Where will they go?Their mother\\'s dead.They don\\'t belong down here.Better a quick death. They won\\'t last without their mother.- Right. Give it here. - No!Put away your blade.- I take orders from your father, not you. - Please, Father!I\\'m sorry, Bran.Lord Stark?There are five pups.One for each of the Stark children.The direwolf is the sigil of your house.They were meant to have them.You will train them yourselves.You will feed them yourselves.And if they die, you will bury them yourselves.What about you?I\\'m not a Stark.Get on.What is it?The runt of the litter. That one\\'s yours, Snow.As your brother, I feel it\\'s my duty to warn you...you worry too much.- It\\'s starting to show. - And you never worry about anything.When we were seven and you jumped off the cliffs at Casterly Rock,100-foot drop into the water... you were never afraid.There was nothing to be afraid of until you told Father.\"We\\'re Lannisters. Lannisters don\\'t act like fools.\"What if Jon Arryn told someone? - But who would he tell?My husband.If he told the king, both our heads would be skewered on the city gates by now.Whatever Jon Arryn knew or didn\\'t know, it died with him.And Robert will choose a new Hand of the King,someone to do his job while he\\'s off fucking boars and hunting whores.Or is it the other way around?And life will go on.You should be the Hand of the King.That\\'s an honour I can do without.Their days are too long,their lives are too short.All these years,and I still feel like an outsider when I come here.You have five northern children.You\\'re not an outsider.I wonder if the old gods agree.'"
      ]
     },
     "execution_count": 34,
     "metadata": {},
     "output_type": "execute_result"
    }
   ],
   "source": [
    "first_group"
   ]
  },
  {
   "cell_type": "code",
   "execution_count": 35,
   "metadata": {},
   "outputs": [
    {
     "data": {
      "text/plain": [
       "0.27608346709470305"
      ]
     },
     "execution_count": 35,
     "metadata": {},
     "output_type": "execute_result"
    }
   ],
   "source": [
    "# Summarization \n",
    "len(test[0])/float(len(first_group))\n"
   ]
  },
  {
   "cell_type": "code",
   "execution_count": 36,
   "metadata": {},
   "outputs": [
    {
     "name": "stdout",
     "output_type": "stream",
     "text": [
      "Preprocessing...\n",
      "Splitting into sentences...\n",
      "Starting to encode...\n",
      "Loading pre-trained models...\n",
      "Loading model parameters...\n",
      "Compiling encoders...\n",
      "Loading tables...\n",
      "Packing up...\n",
      "Encoding sentences...\n",
      "Encoding Finished\n",
      "('# number of clusters', 5)\n",
      "Clustering Finished\n",
      "('Bucket: ', 0)\n",
      "['They won\\'t trouble us no more.You don\\'t think he\\'ll ask us how they died?Get back on your horse.Whatever did it to them could do it to us.They even killed the children.It\\'s a good thing we\\'re not children.You want to run away south, run away.Of course, they will behead you as a deserter.If I don\\'t catch you first.Get back on your horse.I won\\'t say it again.Your dead men seem to have moved camp.They were here.See where they went.What is it?It\\'s...Go on, Father\\'s watching.And your mother.Fine work, as always. They won\\'t last without their mother.- Right. \"Our way is the old way\"?The man who passes the sentence should swing the sword.Is it true he saw the white walkers?The white walkers have been gone for thousands of years.So he was lying?A madman sees what he sees.What is it?Mountain lion?There are no mountain lions in these woods.It\\'s a freak.It\\'s a direwolf.Tough old beast.There are no direwolves south of the Wall.Now there are five.You want to hold it?Where will they go?Their mother\\'s dead.They don\\'t belong down here.Better a quick death. \"What if Jon Arryn told someone? - we should head back to the Wall.Do the dead frighten you?Our orders were to track the wildlings.We tracked them.'] \n",
      "Preprocessing...\n",
      "Splitting into sentences...\n",
      "Starting to encode...\n",
      "Loading pre-trained models...\n",
      "Loading model parameters...\n",
      "Compiling encoders...\n",
      "Loading tables...\n",
      "Packing up...\n",
      "Encoding sentences...\n",
      "Encoding Finished\n",
      "('# number of clusters', 5)\n",
      "Clustering Finished\n",
      "('Bucket: ', 1)\n",
      "['They won\\'t trouble us no more.You don\\'t think he\\'ll ask us how they died?Get back on your horse.Whatever did it to them could do it to us.They even killed the children.It\\'s a good thing we\\'re not children.You want to run away south, run away.Of course, they will behead you as a deserter.If I don\\'t catch you first.Get back on your horse.I won\\'t say it again.Your dead men seem to have moved camp.They were here.See where they went.What is it?It\\'s...Go on, Father\\'s watching.And your mother.Fine work, as always. They won\\'t last without their mother.- Right. \"Our way is the old way\"?The man who passes the sentence should swing the sword.Is it true he saw the white walkers?The white walkers have been gone for thousands of years.So he was lying?A madman sees what he sees.What is it?Mountain lion?There are no mountain lions in these woods.It\\'s a freak.It\\'s a direwolf.Tough old beast.There are no direwolves south of the Wall.Now there are five.You want to hold it?Where will they go?Their mother\\'s dead.They don\\'t belong down here.Better a quick death. \"What if Jon Arryn told someone? - we should head back to the Wall.Do the dead frighten you?Our orders were to track the wildlings.We tracked them.'] ['\"Our way is the old way\"?The man who passes the sentence should swing the sword.Is it true he saw the white walkers?The white walkers have been gone for thousands of years.So he was lying?A madman sees what he sees.What is it?Mountain lion?There are no mountain lions in these woods.It\\'s a freak.It\\'s a direwolf.Tough old beast.There are no direwolves south of the Wall.Now there are five.You want to hold it?Where will they go?Their mother\\'s dead.They don\\'t belong down here.Better a quick death. - But who would he tell?My husband.If he told the king, both our heads would be skewered on the city gates by now.Whatever Jon Arryn knew or didn\\'t know, it died with him.And Robert will choose a new Hand of the King,someone to do his job while he\\'s off fucking boars and hunting whores.Or is it the other way around?And life will go on.You should be the Hand of the King.That\\'s an honour I can do without.Their days are too long,their lives are too short.All these years,and I still feel like an outsider when I come here.You have five northern children.You\\'re not an outsider.I wonder if the old gods agree.It\\'s your gods with all the rules.I am so sorry, my love.- Tell me. They won\\'t last without their mother.- Right. - There was a raven from King\\'s Landing.Jon Arryn is dead.A fever took him.I know he was like a father to you.- Your sister, the boy? - They both have their health,gods be good.The raven brought more news.The king rides for Winterfell...'] \n",
      "Preprocessing...\n",
      "Splitting into sentences...\n",
      "Starting to encode...\n",
      "Loading pre-trained models...\n",
      "Loading model parameters...\n",
      "Compiling encoders...\n",
      "Loading tables...\n",
      "Packing up...\n",
      "Encoding sentences...\n",
      "Encoding Finished\n",
      "('# number of clusters', 5)\n",
      "Clustering Finished\n",
      "('Bucket: ', 2)\n",
      "['They won\\'t trouble us no more.You don\\'t think he\\'ll ask us how they died?Get back on your horse.Whatever did it to them could do it to us.They even killed the children.It\\'s a good thing we\\'re not children.You want to run away south, run away.Of course, they will behead you as a deserter.If I don\\'t catch you first.Get back on your horse.I won\\'t say it again.Your dead men seem to have moved camp.They were here.See where they went.What is it?It\\'s...Go on, Father\\'s watching.And your mother.Fine work, as always. They won\\'t last without their mother.- Right. \"Our way is the old way\"?The man who passes the sentence should swing the sword.Is it true he saw the white walkers?The white walkers have been gone for thousands of years.So he was lying?A madman sees what he sees.What is it?Mountain lion?There are no mountain lions in these woods.It\\'s a freak.It\\'s a direwolf.Tough old beast.There are no direwolves south of the Wall.Now there are five.You want to hold it?Where will they go?Their mother\\'s dead.They don\\'t belong down here.Better a quick death. \"What if Jon Arryn told someone? - we should head back to the Wall.Do the dead frighten you?Our orders were to track the wildlings.We tracked them.'] ['\"Our way is the old way\"?The man who passes the sentence should swing the sword.Is it true he saw the white walkers?The white walkers have been gone for thousands of years.So he was lying?A madman sees what he sees.What is it?Mountain lion?There are no mountain lions in these woods.It\\'s a freak.It\\'s a direwolf.Tough old beast.There are no direwolves south of the Wall.Now there are five.You want to hold it?Where will they go?Their mother\\'s dead.They don\\'t belong down here.Better a quick death. - But who would he tell?My husband.If he told the king, both our heads would be skewered on the city gates by now.Whatever Jon Arryn knew or didn\\'t know, it died with him.And Robert will choose a new Hand of the King,someone to do his job while he\\'s off fucking boars and hunting whores.Or is it the other way around?And life will go on.You should be the Hand of the King.That\\'s an honour I can do without.Their days are too long,their lives are too short.All these years,and I still feel like an outsider when I come here.You have five northern children.You\\'re not an outsider.I wonder if the old gods agree.It\\'s your gods with all the rules.I am so sorry, my love.- Tell me. They won\\'t last without their mother.- Right. - There was a raven from King\\'s Landing.Jon Arryn is dead.A fever took him.I know he was like a father to you.- Your sister, the boy? - They both have their health,gods be good.The raven brought more news.The king rides for Winterfell...'] ['\"Our way is the old way\"?The man who passes the sentence should swing the sword.Is it true he saw the white walkers?The white walkers have been gone for thousands of years.So he was lying?A madman sees what he sees.What is it?Mountain lion?There are no mountain lions in these woods.It\\'s a freak.It\\'s a direwolf.Tough old beast.There are no direwolves south of the Wall.Now there are five.You want to hold it?Where will they go?Their mother\\'s dead.They don\\'t belong down here.Better a quick death. I won\\'t say it again.Your dead men seem to have moved camp.They were here.See where they went.What is it?It\\'s...Go on, Father\\'s watching.And your mother.Fine work, as always. - But who would he tell?My husband.If he told the king, both our heads would be skewered on the city gates by now.Whatever Jon Arryn knew or didn\\'t know, it died with him.And Robert will choose a new Hand of the King,someone to do his job while he\\'s off fucking boars and hunting whores.Or is it the other way around?And life will go on.You should be the Hand of the King.That\\'s an honour I can do without.Their days are too long,their lives are too short.All these years,and I still feel like an outsider when I come here.You have five northern children.You\\'re not an outsider.I wonder if the old gods agree.It\\'s your gods with all the rules.I am so sorry, my love.- Tell me. They won\\'t last without their mother.- Right. \"What if Jon Arryn told someone?'] \n",
      "Preprocessing...\n",
      "Splitting into sentences...\n",
      "Starting to encode...\n",
      "Loading pre-trained models...\n",
      "Loading model parameters...\n"
     ]
    },
    {
     "name": "stdout",
     "output_type": "stream",
     "text": [
      "Compiling encoders...\n",
      "Loading tables...\n",
      "Packing up...\n",
      "Encoding sentences...\n",
      "Encoding Finished\n",
      "('# number of clusters', 5)\n",
      "Clustering Finished\n",
      "('Bucket: ', 3)\n",
      "['They won\\'t trouble us no more.You don\\'t think he\\'ll ask us how they died?Get back on your horse.Whatever did it to them could do it to us.They even killed the children.It\\'s a good thing we\\'re not children.You want to run away south, run away.Of course, they will behead you as a deserter.If I don\\'t catch you first.Get back on your horse.I won\\'t say it again.Your dead men seem to have moved camp.They were here.See where they went.What is it?It\\'s...Go on, Father\\'s watching.And your mother.Fine work, as always. They won\\'t last without their mother.- Right. \"Our way is the old way\"?The man who passes the sentence should swing the sword.Is it true he saw the white walkers?The white walkers have been gone for thousands of years.So he was lying?A madman sees what he sees.What is it?Mountain lion?There are no mountain lions in these woods.It\\'s a freak.It\\'s a direwolf.Tough old beast.There are no direwolves south of the Wall.Now there are five.You want to hold it?Where will they go?Their mother\\'s dead.They don\\'t belong down here.Better a quick death. \"What if Jon Arryn told someone? - we should head back to the Wall.Do the dead frighten you?Our orders were to track the wildlings.We tracked them.'] ['\"Our way is the old way\"?The man who passes the sentence should swing the sword.Is it true he saw the white walkers?The white walkers have been gone for thousands of years.So he was lying?A madman sees what he sees.What is it?Mountain lion?There are no mountain lions in these woods.It\\'s a freak.It\\'s a direwolf.Tough old beast.There are no direwolves south of the Wall.Now there are five.You want to hold it?Where will they go?Their mother\\'s dead.They don\\'t belong down here.Better a quick death. - But who would he tell?My husband.If he told the king, both our heads would be skewered on the city gates by now.Whatever Jon Arryn knew or didn\\'t know, it died with him.And Robert will choose a new Hand of the King,someone to do his job while he\\'s off fucking boars and hunting whores.Or is it the other way around?And life will go on.You should be the Hand of the King.That\\'s an honour I can do without.Their days are too long,their lives are too short.All these years,and I still feel like an outsider when I come here.You have five northern children.You\\'re not an outsider.I wonder if the old gods agree.It\\'s your gods with all the rules.I am so sorry, my love.- Tell me. They won\\'t last without their mother.- Right. - There was a raven from King\\'s Landing.Jon Arryn is dead.A fever took him.I know he was like a father to you.- Your sister, the boy? - They both have their health,gods be good.The raven brought more news.The king rides for Winterfell...'] ['\"Our way is the old way\"?The man who passes the sentence should swing the sword.Is it true he saw the white walkers?The white walkers have been gone for thousands of years.So he was lying?A madman sees what he sees.What is it?Mountain lion?There are no mountain lions in these woods.It\\'s a freak.It\\'s a direwolf.Tough old beast.There are no direwolves south of the Wall.Now there are five.You want to hold it?Where will they go?Their mother\\'s dead.They don\\'t belong down here.Better a quick death. I won\\'t say it again.Your dead men seem to have moved camp.They were here.See where they went.What is it?It\\'s...Go on, Father\\'s watching.And your mother.Fine work, as always. - But who would he tell?My husband.If he told the king, both our heads would be skewered on the city gates by now.Whatever Jon Arryn knew or didn\\'t know, it died with him.And Robert will choose a new Hand of the King,someone to do his job while he\\'s off fucking boars and hunting whores.Or is it the other way around?And life will go on.You should be the Hand of the King.That\\'s an honour I can do without.Their days are too long,their lives are too short.All these years,and I still feel like an outsider when I come here.You have five northern children.You\\'re not an outsider.I wonder if the old gods agree.It\\'s your gods with all the rules.I am so sorry, my love.- Tell me. They won\\'t last without their mother.- Right. \"What if Jon Arryn told someone?'] ['\"Our way is the old way\"?The man who passes the sentence should swing the sword.Is it true he saw the white walkers?The white walkers have been gone for thousands of years.So he was lying?A madman sees what he sees.What is it?Mountain lion?There are no mountain lions in these woods.It\\'s a freak.It\\'s a direwolf.Tough old beast.There are no direwolves south of the Wall.Now there are five.You want to hold it?Where will they go?Their mother\\'s dead.They don\\'t belong down here.Better a quick death. - No!Put away your blade.- I take orders from your father, not you. He\\'s got hundreds of people. - But who would he tell?My husband.If he told the king, both our heads would be skewered on the city gates by now.Whatever Jon Arryn knew or didn\\'t know, it died with him.And Robert will choose a new Hand of the King,someone to do his job while he\\'s off fucking boars and hunting whores.Or is it the other way around?And life will go on.You should be the Hand of the King.That\\'s an honour I can do without.Their days are too long,their lives are too short.All these years,and I still feel like an outsider when I come here.You have five northern children.You\\'re not an outsider.I wonder if the old gods agree.It\\'s your gods with all the rules.I am so sorry, my love.- Tell me. - I\\'m told he drinks all night.How much could he possibly drink?'] \n"
     ]
    }
   ],
   "source": [
    "total_ordered_summary = ''\n",
    "# 4 groups \n",
    "for x in range(4):\n",
    "    \n",
    "    temp_list = []\n",
    "    list_sub[x]\n",
    "    temp_list.append(list_sub[x])\n",
    "    \n",
    "    subgroup_summary  = summarize(temp_list)\n",
    "    \n",
    "    total_ordered_summary += str(subgroup_summary)+' '\n",
    "    \n",
    "    print('Bucket: ',x)\n",
    "    \n",
    "    print(total_ordered_summary)    \n",
    "    "
   ]
  },
  {
   "cell_type": "code",
   "execution_count": 37,
   "metadata": {},
   "outputs": [
    {
     "name": "stdout",
     "output_type": "stream",
     "text": [
      "They won't trouble us no more.You don't think he'll ask us how they died?Get back on your horse.Whatever did it to them could do it to us.They even killed the children.It's a good thing we're not children.You want to run away south, run away.Of course, they will behead you as a deserter.If I don't catch you first.Get back on your horse.I won't say it again.Your dead men seem to have moved camp.They were here.See where they went.What is it?It's...Go on, Father's watching.And your mother.Fine work, as always. They won't last without their mother.- Right. \"Our way is the old way\"?The man who passes the sentence should swing the sword.Is it true he saw the white walkers?The white walkers have been gone for thousands of years.So he was lying?A madman sees what he sees.What is it?Mountain lion?There are no mountain lions in these woods.It's a freak.It's a direwolf.Tough old beast.There are no direwolves south of the Wall.Now there are five.You want to hold it?Where will they go?Their mother's dead.They don't belong down here.Better a quick death. \"What if Jon Arryn told someone? - we should head back to the Wall.Do the dead frighten you?Our orders were to track the wildlings.We tracked them.'   '\"Our way is the old way\"?The man who passes the sentence should swing the sword.Is it true he saw the white walkers?The white walkers have been gone for thousands of years.So he was lying?A madman sees what he sees.What is it?Mountain lion?There are no mountain lions in these woods.It's a freak.It's a direwolf.Tough old beast.There are no direwolves south of the Wall.Now there are five.You want to hold it?Where will they go?Their mother's dead.They don't belong down here.Better a quick death. - But who would he tell?My husband.If he told the king, both our heads would be skewered on the city gates by now.Whatever Jon Arryn knew or didn't know, it died with him.And Robert will choose a new Hand of the King,someone to do his job while he's off fucking boars and hunting whores.Or is it the other way around?And life will go on.You should be the Hand of the King.That's an honour I can do without.Their days are too long,their lives are too short.All these years,and I still feel like an outsider when I come here.You have five northern children.You're not an outsider.I wonder if the old gods agree.It's your gods with all the rules.I am so sorry, my love.- Tell me. They won't last without their mother.- Right. - There was a raven from King's Landing.Jon Arryn is dead.A fever took him.I know he was like a father to you.- Your sister, the boy? - They both have their health,gods be good.The raven brought more news.The king rides for Winterfell...'   '\"Our way is the old way\"?The man who passes the sentence should swing the sword.Is it true he saw the white walkers?The white walkers have been gone for thousands of years.So he was lying?A madman sees what he sees.What is it?Mountain lion?There are no mountain lions in these woods.It's a freak.It's a direwolf.Tough old beast.There are no direwolves south of the Wall.Now there are five.You want to hold it?Where will they go?Their mother's dead.They don't belong down here.Better a quick death. I won't say it again.Your dead men seem to have moved camp.They were here.See where they went.What is it?It's...Go on, Father's watching.And your mother.Fine work, as always. - But who would he tell?My husband.If he told the king, both our heads would be skewered on the city gates by now.Whatever Jon Arryn knew or didn't know, it died with him.And Robert will choose a new Hand of the King,someone to do his job while he's off fucking boars and hunting whores.Or is it the other way around?And life will go on.You should be the Hand of the King.That's an honour I can do without.Their days are too long,their lives are too short.All these years,and I still feel like an outsider when I come here.You have five northern children.You're not an outsider.I wonder if the old gods agree.It's your gods with all the rules.I am so sorry, my love.- Tell me. They won't last without their mother.- Right. \"What if Jon Arryn told someone?'   '\"Our way is the old way\"?The man who passes the sentence should swing the sword.Is it true he saw the white walkers?The white walkers have been gone for thousands of years.So he was lying?A madman sees what he sees.What is it?Mountain lion?There are no mountain lions in these woods.It's a freak.It's a direwolf.Tough old beast.There are no direwolves south of the Wall.Now there are five.You want to hold it?Where will they go?Their mother's dead.They don't belong down here.Better a quick death. - No!Put away your blade.- I take orders from your father, not you. He's got hundreds of people. - But who would he tell?My husband.If he told the king, both our heads would be skewered on the city gates by now.Whatever Jon Arryn knew or didn't know, it died with him.And Robert will choose a new Hand of the King,someone to do his job while he's off fucking boars and hunting whores.Or is it the other way around?And life will go on.You should be the Hand of the King.That's an honour I can do without.Their days are too long,their lives are too short.All these years,and I still feel like an outsider when I come here.You have five northern children.You're not an outsider.I wonder if the old gods agree.It's your gods with all the rules.I am so sorry, my love.- Tell me. - I'm told he drinks all night.How much could he possibly drink?'\n"
     ]
    }
   ],
   "source": [
    "#summarized version of season 1...episode 1 \n",
    "cleanTotal = textacy.preprocess.remove_punct(total_ordered_summary, marks = '][')\n",
    "cleanTotal = cleanTotal.replace('\\\\', '')\n",
    "print(str(cleanTotal[2:len(cleanTotal)-2]))"
   ]
  },
  {
   "cell_type": "code",
   "execution_count": 38,
   "metadata": {},
   "outputs": [
    {
     "data": {
      "text/plain": [
       "0.3042298748754291"
      ]
     },
     "execution_count": 38,
     "metadata": {},
     "output_type": "execute_result"
    }
   ],
   "source": [
    "# Summarization \n",
    "len(total_ordered_summary)/float(len(episodeOne[0]))"
   ]
  },
  {
   "cell_type": "code",
   "execution_count": 39,
   "metadata": {
    "scrolled": false
   },
   "outputs": [
    {
     "name": "stdout",
     "output_type": "stream",
     "text": [
      "  Easy, boy. What do you expect? They're savages. One lot steals a goat from another lot, before you know it they're ripping each other to pieces. I've never seen wildlings do a thing like this. I never seen a thing like this, not ever in my life. How close did you get? Close as any man would. - we should head back to the Wall. Do the dead frighten you? Our orders were to track the wildlings. We tracked them. They won't trouble us no more. You don't think he'll ask us how they died? Get back on your horse. Whatever did it to them could do it to us. They even killed the children. It's a good thing we're not children. You want to run away south, run away. Of course, they will behead you as a deserter. If I don't catch you first. Get back on your horse. I won't say it again. Your dead men seem to have moved camp. They were here. See where they went. What is it? It's... Go on, Father's watching. And your mother. Fine work, as always. Well done. Thank you. I love the detail that you've managed to get in these corners. Quite beautiful. The stitching... Oh, no, no, no. This stitch is very... - It's beautiful. - Thank you. And which one of you was a marksman at ten? Keep practicing, Bran. Go on. Don't think too much, Bran. Relax your bow arm. - Quick, Bran! - Faster. Lord Stark! My lady. A guardsman just rode in from the hills. They've captured a deserter from the Night's Watch. Get the lads to saddle their horses. Do you have to? He swore an oath, Cat. Law is law, my lady. Tell Bran he's coming too. Ned. Ten is too young to see such things. He won't be a boy forever. And winter is coming. Good lad, go run back and get the rest. White walkers. I saw the white walkers. White walkers. The white walkers, I saw them. I know I broke my oath. And I know I'm a deserter. I should have gone back to the Wall and warned them, but... I saw what I saw. I saw the white walkers. People need to know. If you can get word to my family... tell them I'm no coward. Tell them I'm sorry. Forgive me, Lord. In the name of Robert of the House Baratheon, - the first of his name... - Don't look away. ...King of the Andals and the First Men... - Father will know if you do. ...Lord of the Seven Kingdoms and protector of the realm, I, Eddard of the House Stark, Lord of Winterfell and Warden of the North, sentence you to die. You did well. You understand why I did it? Jon said he was a deserter. But do you understand why I had to kill him? \"Our way is the old way\"? The man who passes the sentence should swing the sword. Is it true he saw the white walkers? The white walkers have been gone for thousands of years. So he was lying? A madman sees what he sees. What is it? Mountain lion? There are no mountain lions in these woods. It's a freak. It's a direwolf. Tough old beast. There are no direwolves south of the Wall. Now there are five. You want to hold it? Where will they go? Their mother's dead. They don't belong down here. Better a quick death. They won't last without their mother. - Right. Give it here. - No! Put away your blade. - I take orders from your father, not you. - Please, Father! I'm sorry, Bran. Lord Stark? There are five pups. One for each of the Stark children. The direwolf is the sigil of your house. They were meant to have them. You will train them yourselves. You will feed them yourselves. And if they die, you will bury them yourselves. What about you? I'm not a Stark. Get on. What is it? The runt of the litter. That one's yours, Snow. As your brother, I feel it's my duty to warn you... you worry too much. - It's starting to show. - And you never worry about anything. When we were seven and you jumped off the cliffs at Casterly Rock, 100-foot drop into the water... you were never afraid. There was nothing to be afraid of until you told Father. \"We're Lannisters. Lannisters don't act like fools.\" What if Jon Arryn told someone? - But who would he tell? My husband. If he told the king, both our heads would be skewered on the city gates by now. Whatever Jon Arryn knew or didn't know, it died with him. And Robert will choose a new Hand of the King, someone to do his job while he's off fucking boars and hunting whores. Or is it the other way around? And life will go on. You should be the Hand of the King. That's an honour I can do without. Their days are too long, their lives are too short. All these years, and I still feel like an outsider when I come here. You have five northern children. You're not an outsider. I wonder if the old gods agree. It's your gods with all the rules. I am so sorry, my love. - Tell me. - There was a raven from King's Landing. Jon Arryn is dead. A fever took him. I know he was like a father to you. - Your sister, the boy? - They both have their health, gods be good. The raven brought more news. The king rides for Winterfell... with the queen and all the rest of them. If he's coming this far north... there's only one thing he's after. You can always say no, Ned. We'll need plenty of candles for Lord Tyrion's chamber. - I'm told he reads all night. - I'm told he drinks all night. How much could he possibly drink? A man of his... stature? We've brought up eight barrels of ale from the cellar. Perhaps we'll find out. In any case, candles. Why is your mother so dead set on us getting pretty for the king? It's for the queen, I bet. I hear she's a sleek bit of mink. I hear the prince is a right royal prick. Think of all those southern girls he gets to stab with his right royal prick. Go on, Tommy, shear him good. He's never met a girl he likes better than his own hair. Gods, but they grow fast. Brandon! I saw the king. He's got hundreds of people. How many times have I told you? No climbing. But he's coming right now, down our road. I want you to promise me, no more climbing. I promise. Do you know what? - what? You always look at your feet before you lie. Run and find your father. Tell him the king is close. Where's Arya? Sansa, where's your sister? Hey, Hey, Hey, hey. - Oh. What are you doing with that on? Go on. Move! Your Grace. You've got fat. - Cat! - Your Grace. Nine years... Why haven't I seen you? Where the hell have you been? Guarding the North for you, Your Grace. Winterfell is yours. - Where's the Imp? - Will you shut up? Who have we here? You must be Robb. My, you're a pretty one. Your name is? Arya. Oh, show us your muscles. You'll be a soldier. That's Jaime Lannister, the queen's twin brother. Would you please shut up? My queen. My queen. Take me to your crypt. I want to pay my respects. We've been riding for a month, my love. Surely the dead can wait. Ned. Where's the Imp? Where is our brother? Go and find the little beast. Tell me about Jon Arryn. One minute he was fine and then... burned right through him, whatever it was. I loved that man. We both did. He never had to teach you much, but me? You remember me at 16? All I wanted to do was crack skulls and fuck girls. he showed me What was what. - Aye. Don't look at me like that. It's not his fault I didn't listen. I need you, Ned, down at King's Landing, not up here where you're no damn use to anybody. Lord Eddard Stark... I would name you the Hand of the King. I'm not worthy of the honour. I'm not trying to honour you. I'm trying to get you to run my kingdom while I eat, drink and whore my way to an early grave. Damn it, Ned, stand up. You helped me win the Iron Throne, now help me keep the damn thing. We were meant to rule together. If your sister had lived, we'd have been bound by blood. Well, it's not too late. I have a son, you have a daughter. We'll join our houses. It is true what they say about the northern girls. Did you hear the king's in Winterfell? I did hear something about that. And the queen and her twin brother. They say that he is the most handsome man in the Seven Kingdoms. And the other brother? - The queen has two brothers? - There's the pretty one... and there's the clever one. Mmm... I hear they call him the Imp. I hear he hates that nickname. Oh? I hear he's more than earned it. I hear he's a drunken little lecher, prone to all manner of perversions. Clever girl. We've been expecting you, Lord Tyrion. Have you? - Already? - Oh! The gods gave me one blessing. - Don't get up. - My lord. Should I explain to you the meaning of a closed door in a whorehouse, brother? You have much to teach me, no doubt, but our sister craves your attention. She has odd cravings, our sister. A family trait. Now, the Starks are feasting us at sundown. - Don't leave me alone with these people. - I'm sorry, I've begun the feast a bit early. And this is the first of many courses. I thought you might say that. But since we're short on time... Come on, girls. See you at sundown. Close the door! Did you have to bury her in a place like this? She should be on a hill somewhere with the sun and the clouds above her. She was my sister. This is where she belongs. She belonged with me. In my dreams, I kill him every night. It's done, Your Grace. The Targaryens are gone. Not all of them. Daenerys! Daenerys. There's our bride-to-be. Look, a gift from Illyrio. Touch it. Go on, feel the fabric. Mmm. Isn't he a gracious host? We've been his guests for over a year and he's never asked us for anything. Illyrio's no fool. He knows I won't forget my friends when I come into my throne. You still slouch. Let them see. You have a woman's body now. I need you to be perfect today. Can you do that for me? You don't want to wake the dragon, do you? No. When they write the history of my reign, sweet sister, they will say it began today. It's too hot, my lady. Where is he? The Dothraki are not known for their punctuality. Athchomar chomakaan, Khal vezhven. May I present my honoured guests? Viserys of House Targaryen, the third of his name, the rightful King of the Andals and the First Men, and his sister, Daenerys of House Targaryen. Do you see how long his hair is? When Dothraki are defeated in combat they cut off their braid so the whole world can see their shame. Khal Drogo has never been defeated. He's a savage, of course, but he's one of the finest killers alive. And you will be his queen. Come forward, my dear. Where is he going? - The ceremony is over. - But he... But he didn't say anything. Did he like her? Trust me, Your Grace, if he didn't like her, we'd know. It won't be long now. Soon you will cross the narrow sea and take back your father's throne. The people drink secret toasts to your health. They cry out for their true king. When will they be married? Soon. The Dothraki never stay still for long. Is it true they lie with their horses? I wouldn't ask Khal Drogo. Do you take me for a fool? I take you for a king. Kings lack the caution of common men. My apologies if I've given offence. I know how to play a man like Drogo. I give him a queen and he gives me an army. I don't want to be his queen. I want to go home. So do I. I want us both to go home, but they took it from us. So tell me, sweet sister, how do we go home? I don't know. We go home with an army. With Khal Drogo's army. I would let his whole tribe fuck you, all 40,000 men and their horses too, if that's what it took. Do you think Joffrey will like me? What if he thinks I'm ugly? Then he is the stupidest prince that ever lived. He's so handsome. When would we be married? Soon? Or do we have to wait? Hush now. Your father hasn't even said yes. Why would he say no? He'd be the second most powerful man in the kingdoms. He'd have to leave home. He'd have to leave me. And so would you. You left your home to come here. And I'd be queen someday. Please make Father say yes! - Sansa... - Please, please! It's the only thing I ever wanted. Fill that up! Boys, Rodrik, come on. Come on! Come here, you little beauty! Is he dead yet? Uncle Benjen. You got bigger. Rode all day. Didn't want to leave you alone with the Lannisters. Why aren't you at the feast? Lady Stark thought it might insult the royal family to seat a bastard in their midst. Well, you're always welcome on the Wall. No bastard was ever refused a seat there. So take me with you when you go back. Jon... - father will let me if you ask him. I know he will. The Wall isn't going anywhere. I'm ready to swear your oath. You don't understand what you'd be giving up. We have no families. - None of us will ever father sons. - I don't care about that. You might, if you knew what it meant. I'd better get inside, rescue your father from his guests. We'll talk later. Your uncle's in the Night's Watch. What are you doing back there? Preparing for a night with your family. I've always wanted to see the Wall. You're Tyrion Lannister, the queen's brother? My greatest accomplishment. And you, you're Ned Stark's bastard, aren't you? Did I offend you? Sorry. You are the bastard, though. Lord Eddard Stark is my father. And Lady Stark is not your mother, making you... the bastard. Let me give you some advice, bastard. Never forget what you are. The rest of the world will not. Wear it like armour... and it can never be used to hurt you. What the hell do you know about being a bastard? All dwarves are bastards in their father's eyes. You at a feast... it's like a bear in a trap. The boy I beheaded... did you know him? - of course I did. Just a lad. But he was tough, Ned, a true ranger. He was talking madness. Said the walkers slaughtered his friends. The two he was with are still missing. Hmph. A wildling ambush. Maybe. Direwolves south of the Wall, talk of the walkers, and my brother might be the next Hand of the King. Winter is coming. Winter is coming. Uncle Benjen. - Robb boy. - How are you? - I'm good. Is this your first time in the North, Your Grace? Yes. Lovely country. I'm sure it's very grim after King's Landing. I remember how scared I was when Ned brought me up here for the first time. Hello, little dove. But you are a beauty. How old are you? - Thirteen, your Grace. You're tall. Still growing? I think so, Your Grace. And have you bled yet? No, Your Grace. Your dress, did you make it? Such talent. You must make something for me. I hear we might share a grandchild someday. I hear the same. Your daughter will do well in the capital. Such a beauty shouldn't stay hidden up here forever. your pardon. - I hear we might be neighbours soon. - I hope it's true. - Yes, the king has honoured me with his offer. I'm sure we'll have a tournament to celebrate your new title, if you accept. It would be good to have you on the field. The competition has become a bit stale. - I don't fight in tournaments. - No? Getting a little old for it? I don't fight in tournaments because when I fight a man for real, I don't want him to know what I can do. Well said. Arya! It's not funny! She always does this. This was my favourite dress and she ruined it. She always does it and it's not funny! Time for bed. I'm a Northman. I belong here with you, not down south in that rats' nest they call a capital. I won't let him take you. The king takes what he wants. That's why he's king. I'll say, \"Listen, fat man.\" \"You are not taking my husband anywhere. \"He belongs to me now.\" How did he get so fat? He only stops eating when it's time for a drink. It's Maester Luwin, my lord. Send him in. Pardon, my lord, my lady. A rider in the night... from your sister. Stay. - This was sent from the Eyrie. What's she doing at the Eyrie? She hasn't been back there since her wedding. What news? She's fled the capital. She says Jon Arryn was murdered. By the Lannisters. She says the king is in danger. She's fresh widowed, Cat. She doesn't know what she's saying. Lysa's head would be on a spike right now if the wrong people had found that letter. Do you think she would risk her life, her son's life, if she wasn't certain her husband was murdered? If this news is true... and the Lannisters conspire against the throne, who but you can protect the king? They murdered the last Hand. Now you want Ned to take the job? The king rode for a month to ask for Lord Stark's help. He's the only one he trusts. You swore the king an oath, my lord. He's spent half his life fighting Robert's wars. He owes him nothing. Your father and brother rode south once on a king's demand. A different time. A different king. When do I meet with the khal? We need to begin planning the invasion. If Khal Drogo has promised you a crown, you shall have it. When? - When their omens favour war. I piss on Dothraki omens. I've waited 17 years to get my throne back. Etayo akka. A Dothraki wedding without at least three deaths is considered a dull affair. Jadi, zhey Jorah andahli! Khal vezhven. A small gift, for the new khaleesi. Songs and histories from the Seven Kingdoms. Thank you, ser. Are you from my country? Ser Jorah Mormont of Bear Island. I served your father for many years. Gods be good, I hope to always serve the rightful king. Dragon's eggs, Daenerys, from the Shadow Lands beyond Asshai. The ages have turned them to stone, but they will always be beautiful. Thank you, Magister. She's beautiful. Ser Jorah, I... I don't know how to say \"thank you\" in Dothraki. There is no word for \"thank you\" in Dothraki. Make him happy. No. Do you know the common tongue? No. Is \"no\" the only word that you know? No. Rough night, Imp? If I get through this without squirting from one end or the other, it'll be a miracle. I didn't pick you for a hunter. The greatest in the land - my spear never misses. It's not hunting if you pay for it. Are you as good with a spear as you used to be? No, but I'm still better than you. I know what I'm putting you through. Thank you for saying yes. I only ask you because I need you. You're a loyal friend. You hear me? A loyal friend. The last one I've got. - I hope I'll serve you well. - You will. And I'll make sure you don't look so fucking grim all the time. Come on, boys, let's go kill some boar! Come on, you. Stop! Stop. Are you completely mad? - He saw us. - It's all right, it's all right. - It's all right. - He saw us! I heard you the first time. Quite the little climber, aren't you? How old are you, boy? - Ten. Ten. The things I do for love.\n"
     ]
    }
   ],
   "source": [
    "# full Text Season1 episode1\n",
    "print(episodeOne[0])"
   ]
  }
 ],
 "metadata": {
  "kernelspec": {
   "display_name": "Python 2",
   "language": "python",
   "name": "python2"
  },
  "language_info": {
   "codemirror_mode": {
    "name": "ipython",
    "version": 2
   },
   "file_extension": ".py",
   "mimetype": "text/x-python",
   "name": "python",
   "nbconvert_exporter": "python",
   "pygments_lexer": "ipython2",
   "version": "2.7.16"
  }
 },
 "nbformat": 4,
 "nbformat_minor": 2
}
