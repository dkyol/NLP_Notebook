{
 "cells": [
  {
   "cell_type": "code",
   "execution_count": 8,
   "metadata": {},
   "outputs": [],
   "source": [
    "import spacy\n",
    "# Entity based find/replace \n",
    "nlp =spacy.load('en_core_web_lg')\n",
    " # citation: @ageitgey \n"
   ]
  },
  {
   "cell_type": "code",
   "execution_count": 9,
   "metadata": {},
   "outputs": [],
   "source": [
    "note = \"\"\"Michael Jeffrey Jordan is an American former professional basketball player. \n",
    "He played 15 seasons in the National Basketball Association (NBA) for the Chicago Bulls\n",
    "and Washington Wizards. His biography on the official NBA website states: \"By acclamation, \n",
    "Michael Jordan is the greatest basketball player of all time.\"Jordan was one of the \n",
    "most effectively marketed athletes of his generation and was considered instrumental in \n",
    "popularizing the NBA around the world in the 1980s and 1990s.\n",
    "\"\"\""
   ]
  },
  {
   "cell_type": "code",
   "execution_count": 10,
   "metadata": {},
   "outputs": [],
   "source": [
    "doc = nlp(note)"
   ]
  },
  {
   "cell_type": "code",
   "execution_count": 11,
   "metadata": {},
   "outputs": [
    {
     "name": "stdout",
     "output_type": "stream",
     "text": [
      "Michael Jeffrey Jordan (PERSON)\n",
      "American (NORP)\n",
      "15 seasons (DATE)\n",
      "the National Basketball Association (ORG)\n",
      "NBA (ORG)\n",
      "the Chicago Bulls\n",
      " (ORG)\n",
      "Washington Wizards (ORG)\n",
      "NBA (ORG)\n",
      "\n",
      "Michael Jordan (PERSON)\n",
      "time.\"Jordan (PERSON)\n",
      "one (CARDINAL)\n",
      "\n",
      " (PERSON)\n",
      "NBA (ORG)\n",
      "the 1980s and 1990s (DATE)\n"
     ]
    }
   ],
   "source": [
    "for thing in doc.ents:\n",
    "    print(f\"{thing.text} ({thing.label_})\")"
   ]
  },
  {
   "cell_type": "code",
   "execution_count": 12,
   "metadata": {},
   "outputs": [],
   "source": [
    "def replaceName(token):\n",
    "    # replace person entity with \"the GOAT reference\"\n",
    "   \n",
    "    if token.ent_iob != 0 and token.ent_type_ == \"PERSON\":\n",
    "        \n",
    "        return \"MJ \"\n",
    "    else:\n",
    "        return token.string"
   ]
  },
  {
   "cell_type": "code",
   "execution_count": 13,
   "metadata": {},
   "outputs": [],
   "source": [
    "def scrub(text):\n",
    "    \n",
    "    doc = nlp(text)\n",
    "    for thing in doc.ents:\n",
    "        \n",
    "        thing.merge()\n",
    "    tokens = map(replaceName, doc)\n",
    "    \n",
    "    return \"\".join(tokens)"
   ]
  },
  {
   "cell_type": "code",
   "execution_count": 14,
   "metadata": {},
   "outputs": [
    {
     "name": "stdout",
     "output_type": "stream",
     "text": [
      "MJ is an American former professional basketball player. \n",
      "He played 15 seasons in the National Basketball Association (NBA) for the Chicago Bulls\n",
      "and Washington Wizards. His biography on the official NBA website states: \"By acclamation, MJ is the greatest basketball player of all MJ was one of the \n",
      "most effectively marketed athletes of his generation and was considered instrumental in MJ popularizing the NBA around the world in the 1980s and 1990s.\n",
      "\n"
     ]
    }
   ],
   "source": [
    "print(scrub(note))"
   ]
  },
  {
   "cell_type": "code",
   "execution_count": null,
   "metadata": {},
   "outputs": [],
   "source": []
  }
 ],
 "metadata": {
  "kernelspec": {
   "display_name": "Python 3",
   "language": "python",
   "name": "python3"
  },
  "language_info": {
   "codemirror_mode": {
    "name": "ipython",
    "version": 3
   },
   "file_extension": ".py",
   "mimetype": "text/x-python",
   "name": "python",
   "nbconvert_exporter": "python",
   "pygments_lexer": "ipython3",
   "version": "3.6.6"
  }
 },
 "nbformat": 4,
 "nbformat_minor": 2
}
