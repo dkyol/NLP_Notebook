{
 "cells": [
  {
   "cell_type": "code",
   "execution_count": 1,
   "metadata": {},
   "outputs": [],
   "source": [
    "import numpy as np\n",
    "import pandas as pd \n",
    "\n",
    "# Dataset from Kaggle \n",
    "# source https://www.kaggle.com/gunnvant/game-of-thrones-srt\n",
    "# Json to CSV transform completed with Trifacta\n",
    "\n",
    "data = pd.read_csv('C:/Users/D/.../Game of Thrones Subtitles/Scripts.csv')\n"
   ]
  },
  {
   "cell_type": "code",
   "execution_count": 2,
   "metadata": {
    "scrolled": true
   },
   "outputs": [
    {
     "data": {
      "text/html": [
       "<div>\n",
       "<style scoped>\n",
       "    .dataframe tbody tr th:only-of-type {\n",
       "        vertical-align: middle;\n",
       "    }\n",
       "\n",
       "    .dataframe tbody tr th {\n",
       "        vertical-align: top;\n",
       "    }\n",
       "\n",
       "    .dataframe thead th {\n",
       "        text-align: right;\n",
       "    }\n",
       "</style>\n",
       "<table border=\"1\" class=\"dataframe\">\n",
       "  <thead>\n",
       "    <tr style=\"text-align: right;\">\n",
       "      <th></th>\n",
       "      <th>Episode</th>\n",
       "      <th>1</th>\n",
       "      <th>2</th>\n",
       "      <th>3</th>\n",
       "      <th>4</th>\n",
       "      <th>5</th>\n",
       "      <th>6</th>\n",
       "      <th>7</th>\n",
       "      <th>8</th>\n",
       "      <th>9</th>\n",
       "      <th>...</th>\n",
       "      <th>766</th>\n",
       "      <th>767</th>\n",
       "      <th>768</th>\n",
       "      <th>769</th>\n",
       "      <th>770</th>\n",
       "      <th>771</th>\n",
       "      <th>772</th>\n",
       "      <th>773</th>\n",
       "      <th>774</th>\n",
       "      <th>775</th>\n",
       "    </tr>\n",
       "  </thead>\n",
       "  <tbody>\n",
       "    <tr>\n",
       "      <th>0</th>\n",
       "      <td>S01E01 Winter Is Coming.srt</td>\n",
       "      <td>Easy, boy.</td>\n",
       "      <td>What do you expect? They're savages.</td>\n",
       "      <td>One lot steals a goat from another lot,</td>\n",
       "      <td>before you know it they're ripping each other ...</td>\n",
       "      <td>I've never seen wildlings do a thing like this.</td>\n",
       "      <td>I never seen a thing like this, not ever in my...</td>\n",
       "      <td>How close did you get?</td>\n",
       "      <td>Close as any man would. - we should head back ...</td>\n",
       "      <td>Do the dead frighten you?</td>\n",
       "      <td>...</td>\n",
       "      <td>NaN</td>\n",
       "      <td>NaN</td>\n",
       "      <td>NaN</td>\n",
       "      <td>NaN</td>\n",
       "      <td>NaN</td>\n",
       "      <td>NaN</td>\n",
       "      <td>NaN</td>\n",
       "      <td>NaN</td>\n",
       "      <td>NaN</td>\n",
       "      <td>NaN</td>\n",
       "    </tr>\n",
       "    <tr>\n",
       "      <th>1</th>\n",
       "      <td>S01E02 The Kingsroad.srt</td>\n",
       "      <td>You need to drink, child.</td>\n",
       "      <td>And eat.</td>\n",
       "      <td>Isn't there anything else?</td>\n",
       "      <td>The Dothraki have two things in abundance - gr...</td>\n",
       "      <td>People can't live on grass.</td>\n",
       "      <td>In the Shadow Lands beyond Asshai,</td>\n",
       "      <td>they say there are fields of ghost grass</td>\n",
       "      <td>with stalks as pale as milk that glow in the n...</td>\n",
       "      <td>It murders all other grass.</td>\n",
       "      <td>...</td>\n",
       "      <td>NaN</td>\n",
       "      <td>NaN</td>\n",
       "      <td>NaN</td>\n",
       "      <td>NaN</td>\n",
       "      <td>NaN</td>\n",
       "      <td>NaN</td>\n",
       "      <td>NaN</td>\n",
       "      <td>NaN</td>\n",
       "      <td>NaN</td>\n",
       "      <td>NaN</td>\n",
       "    </tr>\n",
       "    <tr>\n",
       "      <th>2</th>\n",
       "      <td>S01E03 Lord Snow.srt</td>\n",
       "      <td>Welcome, Lord Stark.</td>\n",
       "      <td>Grand Maester Pycelle has called a meeting of ...</td>\n",
       "      <td>The honour of your presence is requested.</td>\n",
       "      <td>Get the girls settled in. I'll be back in time...</td>\n",
       "      <td>And, Jory, you go with them. - Yes, my lord.</td>\n",
       "      <td>If you'd like to change into something more ap...</td>\n",
       "      <td>Thank the gods you're here, Stark.</td>\n",
       "      <td>About time we had some stern northern leadership.</td>\n",
       "      <td>Glad to see you're protecting the throne.</td>\n",
       "      <td>...</td>\n",
       "      <td>NaN</td>\n",
       "      <td>NaN</td>\n",
       "      <td>NaN</td>\n",
       "      <td>NaN</td>\n",
       "      <td>NaN</td>\n",
       "      <td>NaN</td>\n",
       "      <td>NaN</td>\n",
       "      <td>NaN</td>\n",
       "      <td>NaN</td>\n",
       "      <td>NaN</td>\n",
       "    </tr>\n",
       "    <tr>\n",
       "      <th>3</th>\n",
       "      <td>S01E04 Cripples, Bastards, And Broken Things.srt</td>\n",
       "      <td>The little lord's been dreaming again.</td>\n",
       "      <td>- We have visitors. - I don't want to see anyone.</td>\n",
       "      <td>Really? If I was cooped up all day</td>\n",
       "      <td>with no one but this old bat for company, I'd ...</td>\n",
       "      <td>Anyway, you don't have a choice. Robb's waiting.</td>\n",
       "      <td>- I don't want to go. - Neither do I.</td>\n",
       "      <td>But Robb's Lord of Winterfell,</td>\n",
       "      <td>which means I do what he says, and you do what...</td>\n",
       "      <td>Hodor!</td>\n",
       "      <td>...</td>\n",
       "      <td>NaN</td>\n",
       "      <td>NaN</td>\n",
       "      <td>NaN</td>\n",
       "      <td>NaN</td>\n",
       "      <td>NaN</td>\n",
       "      <td>NaN</td>\n",
       "      <td>NaN</td>\n",
       "      <td>NaN</td>\n",
       "      <td>NaN</td>\n",
       "      <td>NaN</td>\n",
       "    </tr>\n",
       "    <tr>\n",
       "      <th>4</th>\n",
       "      <td>S01E05 The Wolf And The Lion.srt</td>\n",
       "      <td>Does Ser Hugh have any family in the capital?</td>\n",
       "      <td>No.</td>\n",
       "      <td>I stood vigil for him myself last night.</td>\n",
       "      <td>He had no one else.</td>\n",
       "      <td>He'd never worn this armour before.</td>\n",
       "      <td>Bad luck for him - going against the Mountain.</td>\n",
       "      <td>Who determines the draw?</td>\n",
       "      <td>All the knights draw straws, Lord Stark.</td>\n",
       "      <td>Aye.</td>\n",
       "      <td>...</td>\n",
       "      <td>NaN</td>\n",
       "      <td>NaN</td>\n",
       "      <td>NaN</td>\n",
       "      <td>NaN</td>\n",
       "      <td>NaN</td>\n",
       "      <td>NaN</td>\n",
       "      <td>NaN</td>\n",
       "      <td>NaN</td>\n",
       "      <td>NaN</td>\n",
       "      <td>NaN</td>\n",
       "    </tr>\n",
       "  </tbody>\n",
       "</table>\n",
       "<p>5 rows × 776 columns</p>\n",
       "</div>"
      ],
      "text/plain": [
       "                                             Episode  \\\n",
       "0                        S01E01 Winter Is Coming.srt   \n",
       "1                           S01E02 The Kingsroad.srt   \n",
       "2                               S01E03 Lord Snow.srt   \n",
       "3   S01E04 Cripples, Bastards, And Broken Things.srt   \n",
       "4                   S01E05 The Wolf And The Lion.srt   \n",
       "\n",
       "                                               1  \\\n",
       "0                                     Easy, boy.   \n",
       "1                      You need to drink, child.   \n",
       "2                           Welcome, Lord Stark.   \n",
       "3         The little lord's been dreaming again.   \n",
       "4  Does Ser Hugh have any family in the capital?   \n",
       "\n",
       "                                                   2  \\\n",
       "0               What do you expect? They're savages.   \n",
       "1                                           And eat.   \n",
       "2  Grand Maester Pycelle has called a meeting of ...   \n",
       "3  - We have visitors. - I don't want to see anyone.   \n",
       "4                                                No.   \n",
       "\n",
       "                                           3  \\\n",
       "0    One lot steals a goat from another lot,   \n",
       "1                 Isn't there anything else?   \n",
       "2  The honour of your presence is requested.   \n",
       "3         Really? If I was cooped up all day   \n",
       "4   I stood vigil for him myself last night.   \n",
       "\n",
       "                                                   4  \\\n",
       "0  before you know it they're ripping each other ...   \n",
       "1  The Dothraki have two things in abundance - gr...   \n",
       "2  Get the girls settled in. I'll be back in time...   \n",
       "3  with no one but this old bat for company, I'd ...   \n",
       "4                                He had no one else.   \n",
       "\n",
       "                                                  5  \\\n",
       "0   I've never seen wildlings do a thing like this.   \n",
       "1                       People can't live on grass.   \n",
       "2      And, Jory, you go with them. - Yes, my lord.   \n",
       "3  Anyway, you don't have a choice. Robb's waiting.   \n",
       "4               He'd never worn this armour before.   \n",
       "\n",
       "                                                   6  \\\n",
       "0  I never seen a thing like this, not ever in my...   \n",
       "1                 In the Shadow Lands beyond Asshai,   \n",
       "2  If you'd like to change into something more ap...   \n",
       "3              - I don't want to go. - Neither do I.   \n",
       "4     Bad luck for him - going against the Mountain.   \n",
       "\n",
       "                                          7  \\\n",
       "0                    How close did you get?   \n",
       "1  they say there are fields of ghost grass   \n",
       "2        Thank the gods you're here, Stark.   \n",
       "3            But Robb's Lord of Winterfell,   \n",
       "4                  Who determines the draw?   \n",
       "\n",
       "                                                   8  \\\n",
       "0  Close as any man would. - we should head back ...   \n",
       "1  with stalks as pale as milk that glow in the n...   \n",
       "2  About time we had some stern northern leadership.   \n",
       "3  which means I do what he says, and you do what...   \n",
       "4           All the knights draw straws, Lord Stark.   \n",
       "\n",
       "                                           9 ...   766  767  768  769  770  \\\n",
       "0                  Do the dead frighten you? ...   NaN  NaN  NaN  NaN  NaN   \n",
       "1                It murders all other grass. ...   NaN  NaN  NaN  NaN  NaN   \n",
       "2  Glad to see you're protecting the throne. ...   NaN  NaN  NaN  NaN  NaN   \n",
       "3                                     Hodor! ...   NaN  NaN  NaN  NaN  NaN   \n",
       "4                                       Aye. ...   NaN  NaN  NaN  NaN  NaN   \n",
       "\n",
       "   771  772  773  774  775  \n",
       "0  NaN  NaN  NaN  NaN  NaN  \n",
       "1  NaN  NaN  NaN  NaN  NaN  \n",
       "2  NaN  NaN  NaN  NaN  NaN  \n",
       "3  NaN  NaN  NaN  NaN  NaN  \n",
       "4  NaN  NaN  NaN  NaN  NaN  \n",
       "\n",
       "[5 rows x 776 columns]"
      ]
     },
     "execution_count": 2,
     "metadata": {},
     "output_type": "execute_result"
    }
   ],
   "source": [
    "data.head(5)"
   ]
  },
  {
   "cell_type": "code",
   "execution_count": 3,
   "metadata": {},
   "outputs": [],
   "source": [
    "data = pd.DataFrame(data)"
   ]
  },
  {
   "cell_type": "code",
   "execution_count": 4,
   "metadata": {},
   "outputs": [
    {
     "data": {
      "text/html": [
       "<div>\n",
       "<style scoped>\n",
       "    .dataframe tbody tr th:only-of-type {\n",
       "        vertical-align: middle;\n",
       "    }\n",
       "\n",
       "    .dataframe tbody tr th {\n",
       "        vertical-align: top;\n",
       "    }\n",
       "\n",
       "    .dataframe thead th {\n",
       "        text-align: right;\n",
       "    }\n",
       "</style>\n",
       "<table border=\"1\" class=\"dataframe\">\n",
       "  <thead>\n",
       "    <tr style=\"text-align: right;\">\n",
       "      <th></th>\n",
       "      <th>Episode</th>\n",
       "      <th>1</th>\n",
       "      <th>2</th>\n",
       "      <th>3</th>\n",
       "      <th>4</th>\n",
       "      <th>5</th>\n",
       "      <th>6</th>\n",
       "      <th>7</th>\n",
       "      <th>8</th>\n",
       "      <th>9</th>\n",
       "      <th>...</th>\n",
       "      <th>766</th>\n",
       "      <th>767</th>\n",
       "      <th>768</th>\n",
       "      <th>769</th>\n",
       "      <th>770</th>\n",
       "      <th>771</th>\n",
       "      <th>772</th>\n",
       "      <th>773</th>\n",
       "      <th>774</th>\n",
       "      <th>775</th>\n",
       "    </tr>\n",
       "  </thead>\n",
       "  <tbody>\n",
       "    <tr>\n",
       "      <th>0</th>\n",
       "      <td>S01E01 Winter Is Coming.srt</td>\n",
       "      <td>Easy, boy.</td>\n",
       "      <td>What do you expect? They're savages.</td>\n",
       "      <td>One lot steals a goat from another lot,</td>\n",
       "      <td>before you know it they're ripping each other ...</td>\n",
       "      <td>I've never seen wildlings do a thing like this.</td>\n",
       "      <td>I never seen a thing like this, not ever in my...</td>\n",
       "      <td>How close did you get?</td>\n",
       "      <td>Close as any man would. - we should head back ...</td>\n",
       "      <td>Do the dead frighten you?</td>\n",
       "      <td>...</td>\n",
       "      <td>NaN</td>\n",
       "      <td>NaN</td>\n",
       "      <td>NaN</td>\n",
       "      <td>NaN</td>\n",
       "      <td>NaN</td>\n",
       "      <td>NaN</td>\n",
       "      <td>NaN</td>\n",
       "      <td>NaN</td>\n",
       "      <td>NaN</td>\n",
       "      <td>NaN</td>\n",
       "    </tr>\n",
       "  </tbody>\n",
       "</table>\n",
       "<p>1 rows × 776 columns</p>\n",
       "</div>"
      ],
      "text/plain": [
       "                        Episode           1  \\\n",
       "0   S01E01 Winter Is Coming.srt  Easy, boy.   \n",
       "\n",
       "                                      2  \\\n",
       "0  What do you expect? They're savages.   \n",
       "\n",
       "                                         3  \\\n",
       "0  One lot steals a goat from another lot,   \n",
       "\n",
       "                                                   4  \\\n",
       "0  before you know it they're ripping each other ...   \n",
       "\n",
       "                                                 5  \\\n",
       "0  I've never seen wildlings do a thing like this.   \n",
       "\n",
       "                                                   6                       7  \\\n",
       "0  I never seen a thing like this, not ever in my...  How close did you get?   \n",
       "\n",
       "                                                   8  \\\n",
       "0  Close as any man would. - we should head back ...   \n",
       "\n",
       "                           9 ...   766  767  768  769  770  771  772  773  \\\n",
       "0  Do the dead frighten you? ...   NaN  NaN  NaN  NaN  NaN  NaN  NaN  NaN   \n",
       "\n",
       "   774  775  \n",
       "0  NaN  NaN  \n",
       "\n",
       "[1 rows x 776 columns]"
      ]
     },
     "execution_count": 4,
     "metadata": {},
     "output_type": "execute_result"
    }
   ],
   "source": [
    "data.iloc[:1]"
   ]
  },
  {
   "cell_type": "code",
   "execution_count": 5,
   "metadata": {},
   "outputs": [],
   "source": [
    "from sklearn.feature_extraction.text import CountVectorizer"
   ]
  },
  {
   "cell_type": "code",
   "execution_count": 6,
   "metadata": {},
   "outputs": [],
   "source": [
    " def episodeLine(num, line, df=data):\n",
    "    #num = episode\n",
    "    x = df.iloc[num, line]\n",
    "    return x "
   ]
  },
  {
   "cell_type": "code",
   "execution_count": 7,
   "metadata": {},
   "outputs": [
    {
     "data": {
      "text/plain": [
       "\"I've never seen wildlings do a thing like this.\""
      ]
     },
     "execution_count": 7,
     "metadata": {},
     "output_type": "execute_result"
    }
   ],
   "source": [
    "episodeLine(0, 5, df=data)"
   ]
  },
  {
   "cell_type": "code",
   "execution_count": 8,
   "metadata": {},
   "outputs": [],
   "source": [
    "def episodeTokens(num, df=data):\n",
    "    '''Input - row from csv. Subtitles for each episode\n",
    "    \n",
    "       Output - Token list by word (tokens), and by line (lineList) \n",
    "    '''\n",
    "    \n",
    "    lineList = []\n",
    "    tokens = []\n",
    "    wordline = ''\n",
    "      \n",
    "       \n",
    "    #while isinstance(wordline, str):\n",
    "    for x in range(1, 776):\n",
    "        \n",
    "        wordline = episodeLine(num, x, df=data)\n",
    "        \n",
    "        if isinstance(wordline, str):\n",
    "        \n",
    "            lineList.append(wordline)          \n",
    "    \n",
    "        \n",
    "    for y in lineList:\n",
    "        \n",
    "        bite = str(y).split()\n",
    "        \n",
    "        tokens = tokens + bite \n",
    "    \n",
    "    return tokens, lineList   "
   ]
  },
  {
   "cell_type": "code",
   "execution_count": 9,
   "metadata": {},
   "outputs": [],
   "source": [
    "tokenList, episodeList = episodeTokens(0, df=data)"
   ]
  },
  {
   "cell_type": "code",
   "execution_count": 10,
   "metadata": {},
   "outputs": [
    {
     "data": {
      "text/plain": [
       "['Easy, boy.',\n",
       " \"What do you expect? They're savages.\",\n",
       " 'One lot steals a goat from another lot,',\n",
       " \"before you know it they're ripping each other to pieces.\",\n",
       " \"I've never seen wildlings do a thing like this.\"]"
      ]
     },
     "execution_count": 10,
     "metadata": {},
     "output_type": "execute_result"
    }
   ],
   "source": [
    "episodeList[:5]"
   ]
  },
  {
   "cell_type": "code",
   "execution_count": 11,
   "metadata": {},
   "outputs": [
    {
     "data": {
      "text/plain": [
       "['Easy,',\n",
       " 'boy.',\n",
       " 'What',\n",
       " 'do',\n",
       " 'you',\n",
       " 'expect?',\n",
       " \"They're\",\n",
       " 'savages.',\n",
       " 'One',\n",
       " 'lot',\n",
       " 'steals',\n",
       " 'a',\n",
       " 'goat',\n",
       " 'from',\n",
       " 'another',\n",
       " 'lot,',\n",
       " 'before',\n",
       " 'you',\n",
       " 'know',\n",
       " 'it',\n",
       " \"they're\",\n",
       " 'ripping',\n",
       " 'each',\n",
       " 'other',\n",
       " 'to',\n",
       " 'pieces.',\n",
       " \"I've\",\n",
       " 'never',\n",
       " 'seen',\n",
       " 'wildlings',\n",
       " 'do',\n",
       " 'a',\n",
       " 'thing',\n",
       " 'like',\n",
       " 'this.']"
      ]
     },
     "execution_count": 11,
     "metadata": {},
     "output_type": "execute_result"
    }
   ],
   "source": [
    "tokenList[:35]"
   ]
  },
  {
   "cell_type": "code",
   "execution_count": 12,
   "metadata": {},
   "outputs": [],
   "source": [
    "def TopList(num):\n",
    "    \n",
    "    '''Input - num - integer, list of tokens  \n",
    "       Ouput count of the the most popular terms by frequency '''\n",
    "    \n",
    "    vector = CountVectorizer(tokenList, stop_words = 'english')\n",
    "    \n",
    "    word_matrix = vector.fit_transform(tokenList).toarray()\n",
    "    \n",
    "    frequency = pd.DataFrame(word_matrix, columns = vector.get_feature_names())\n",
    "    \n",
    "    total = frequency.sum(axis = 0).sort_values(ascending = False)\n",
    "    \n",
    "    return total[:num], total.index[:num]"
   ]
  },
  {
   "cell_type": "code",
   "execution_count": 13,
   "metadata": {},
   "outputs": [],
   "source": [
    "topWordcount, topWord = TopList(25)"
   ]
  },
  {
   "cell_type": "code",
   "execution_count": 14,
   "metadata": {},
   "outputs": [
    {
     "data": {
      "text/plain": [
       "(king      27\n",
       " know      20\n",
       " don       19\n",
       " father    17\n",
       " did       14\n",
       " dtype: int64, Index(['king', 'know', 'don', 'father', 'did'], dtype='object'))"
      ]
     },
     "execution_count": 14,
     "metadata": {},
     "output_type": "execute_result"
    }
   ],
   "source": [
    "TopList(5)"
   ]
  },
  {
   "cell_type": "code",
   "execution_count": 15,
   "metadata": {},
   "outputs": [],
   "source": [
    "# Spacy Natural Language Processing package \n",
    "#small model \n",
    "import spacy\n",
    "nlp =spacy.load('en_core_web_sm')\n"
   ]
  },
  {
   "cell_type": "code",
   "execution_count": 16,
   "metadata": {},
   "outputs": [],
   "source": [
    "# accounts for non-string terms in list of subtitles \n",
    "\n",
    "seasonText = []\n",
    "for x in episodeList:\n",
    "    seasonText.append(str(x))\n",
    "    \n",
    "# Creates a string of subtitles for each episode     \n",
    "episodeText = ','.join(seasonText)"
   ]
  },
  {
   "cell_type": "code",
   "execution_count": 17,
   "metadata": {},
   "outputs": [
    {
     "data": {
      "text/plain": [
       "\"Easy, boy.,What do you expect? They're savages.,One lot steals a goat from another lot,,before you know it they're ripping each other to pieces.,I've never seen wildlings do a thing like this.,I never seen a thing like this, not ever in my life.,How close did you get?,Close as any man would. - we should head back to the Wall.,Do the dead frighten you?,Our orders were to track the wildlings.,We tracked them. They won't trouble us no more.,You don't think he'll ask us how they died?,Get back on your horse.,Whatever did it to them could do it to us.,They even killed the children.,It's a good thing we're not children.,You want to run away south, run away.,Of course, they will behead you as a deserter.,If I don't catch you first.,Get back on your horse.,I won't say it again.,Your dead men seem to have moved camp.,They were here.,See where they went.,What is it?,It's...,Go on, Father's watching.,And your mother.,Fine work, as always. Well done.,Thank you.,I love the detail that you've manage\""
      ]
     },
     "execution_count": 17,
     "metadata": {},
     "output_type": "execute_result"
    }
   ],
   "source": [
    "episodeText[:1000]"
   ]
  },
  {
   "cell_type": "code",
   "execution_count": 18,
   "metadata": {},
   "outputs": [],
   "source": [
    "# textacy is a Python library for performing higher-level natural language processing (NLP) tasks, \n",
    "#built on the high-performance Spacy library\n",
    "import textacy\n",
    "import textacy.keyterms\n",
    "import textacy.extract"
   ]
  },
  {
   "cell_type": "code",
   "execution_count": 19,
   "metadata": {},
   "outputs": [],
   "source": [
    "# preprocess text\n",
    "cleanText = textacy.preprocess.remove_punct(episodeText)"
   ]
  },
  {
   "cell_type": "code",
   "execution_count": 20,
   "metadata": {},
   "outputs": [
    {
     "data": {
      "text/plain": [
       "'Easy  boy  What do you expect  They re savages  One lot steals a goat from another lot  before you know it they re ripping each other to pieces  I ve never seen wildlings do a thing like this  I never seen a thing like this  not ever in my life  How close did you get  Close as any man would    we should head back to the Wall  Do the dead frighten you  Our orders were to track the wildlings  We tracked them  They won t trouble us no more  You don t think he ll ask us how they died  Get back on your horse  Whatever did it to them could do it to us  They even killed the children  It s a good thing we re not children  You want to run away south  run away  Of course  they will behead you as a deserter  If I don t catch you first  Get back on your horse  I won t say it again  Your dead men seem to have moved camp  They were here  See where they went  What is it  It s    Go on  Father s watching  And your mother  Fine work  as always  Well done  Thank you  I love the detail that you ve manage'"
      ]
     },
     "execution_count": 20,
     "metadata": {},
     "output_type": "execute_result"
    }
   ],
   "source": [
    "cleanText[:1000]"
   ]
  },
  {
   "cell_type": "code",
   "execution_count": 21,
   "metadata": {},
   "outputs": [],
   "source": [
    "normalizedText = textacy.preprocess.normalize_whitespace(cleanText)"
   ]
  },
  {
   "cell_type": "code",
   "execution_count": 22,
   "metadata": {},
   "outputs": [
    {
     "data": {
      "text/plain": [
       "'Easy boy What do you expect They re savages One lot steals a goat from another lot before you know it they re ripping each other to pieces I ve never seen wildlings do a thing like this I never seen a thing like this not ever in my life How close did you get Close as any man would we should head back to the Wall Do the dead frighten you Our orders were to track the wildlings We tracked them They won t trouble us no more You don t think he ll ask us how they died Get back on your horse Whatever did it to them could do it to us They even killed the children It s a good thing we re not children You want to run away south run away Of course they will behead you as a deserter If I don t catch you first Get back on your horse I won t say it again Your dead men seem to have moved camp They were here See where they went What is it It s Go on Father s watching And your mother Fine work as always Well done Thank you I love the detail that you ve managed to get in these corners Quite beautiful Th'"
      ]
     },
     "execution_count": 22,
     "metadata": {},
     "output_type": "execute_result"
    }
   ],
   "source": [
    "normalizedText[:1000]"
   ]
  },
  {
   "cell_type": "code",
   "execution_count": 23,
   "metadata": {},
   "outputs": [],
   "source": [
    "# Create SpaCy Text object \n",
    "SpacyTextObject = nlp(normalizedText)"
   ]
  },
  {
   "cell_type": "code",
   "execution_count": 24,
   "metadata": {},
   "outputs": [
    {
     "name": "stdout",
     "output_type": "stream",
     "text": [
      "Stark PERSON\n",
      "Don PERSON\n",
      "Stark PERSON\n",
      "Tell PERSON\n",
      "Tell ORG\n",
      "Ned PERSON\n",
      "Ned PERSON\n",
      "Don PERSON\n",
      "Don PERSON\n",
      "Ned PERSON\n",
      "Ned PERSON\n",
      "Grace PERSON\n",
      "Ned PERSON\n",
      "Stark PERSON\n"
     ]
    }
   ],
   "source": [
    "for entity in SpacyTextObject.ents:\n",
    "    if str(entity).lower() in topWord:\n",
    "        print(entity.text, entity.label_)"
   ]
  },
  {
   "cell_type": "code",
   "execution_count": 25,
   "metadata": {},
   "outputs": [
    {
     "name": "stdout",
     "output_type": "stream",
     "text": [
      "Father NP\n",
      "Don NP\n",
      "King NP\n",
      "Lord NP\n",
      "Father NP\n",
      "ll NP\n",
      "Ned NP\n",
      "Ned NP\n",
      "brother NP\n",
      "Father NP\n",
      "Come NP\n",
      "Ned NP\n",
      "Ned NP\n",
      "king NP\n",
      "Ned NP\n",
      "brother NP\n"
     ]
    }
   ],
   "source": [
    "for entity in SpacyTextObject.noun_chunks:\n",
    "    if str(entity).lower() in topWord:\n",
    "        print(entity.text, entity.label_)"
   ]
  },
  {
   "cell_type": "code",
   "execution_count": 26,
   "metadata": {},
   "outputs": [
    {
     "data": {
      "text/plain": [
       "[('white walker', 0.11249332592840376),\n",
       " ('Lord Stark', 0.0736658815233693),\n",
       " ('Don t', 0.07046536778427104),\n",
       " ('Jon Arryn', 0.05019053921508314),\n",
       " ('Seven Kingdoms', 0.04223668459048843),\n",
       " ('man', 0.03166701369654801),\n",
       " ('king', 0.027455271920707743),\n",
       " ('boy', 0.0273683528405228),\n",
       " ('Wall', 0.02201017893547364),\n",
       " ('good', 0.020991427692128965)]"
      ]
     },
     "execution_count": 26,
     "metadata": {},
     "output_type": "execute_result"
    }
   ],
   "source": [
    "# Extract key terms from a document using the [SGRank] algorithm.\n",
    "key = textacy.keyterms.sgrank(SpacyTextObject, ngrams=(1, 2, 3, 4, 5, 6), normalize='lemma', window_width=1500, n_keyterms=10, idf=None)\n",
    "key"
   ]
  },
  {
   "cell_type": "code",
   "execution_count": 27,
   "metadata": {},
   "outputs": [
    {
     "name": "stdout",
     "output_type": "stream",
     "text": [
      "Jon Arryn\n",
      "Jon Arryn\n",
      "Jon Arryn\n",
      "Ned\n",
      "Ned\n",
      "first\n",
      "Dothraki\n",
      "Dothraki\n",
      "Khal Drogo\n",
      "Khal Drogo\n",
      "Khal Drogo\n",
      "Ned\n",
      "first\n",
      "Ned\n",
      "first\n",
      "Jon Arryn\n",
      "Ned\n",
      "Khal Drogo\n",
      "Dothraki\n",
      "Dothraki\n",
      "Dothraki\n",
      "first\n"
     ]
    }
   ],
   "source": [
    "# Extract an ordered sequence of named entities (PERSON, ORG, LOC, etc.) \n",
    "#from a spacy-parsed doc, optionally filtering by entity types and frequencies.\n",
    "word1 = textacy.extract.named_entities(SpacyTextObject, include_types=None, exclude_types=None, drop_determiners=True, min_freq=4)\n",
    "for x in word1:\n",
    "    print (x)"
   ]
  },
  {
   "cell_type": "code",
   "execution_count": 28,
   "metadata": {},
   "outputs": [
    {
     "name": "stdout",
     "output_type": "stream",
     "text": [
      "winter is coming\n",
      "saw the white\n",
      "saw the white\n",
      "Don t look\n",
      "saw the white\n",
      "King s Landing\n",
      "Don t look\n",
      "King s Landing\n",
      "don t want\n",
      "don t want\n",
      "Winter is coming\n",
      "Winter is coming\n",
      "King s Landing\n",
      "don t want\n",
      "don t look\n",
      "s all right\n",
      "s all right\n",
      "s all right\n"
     ]
    }
   ],
   "source": [
    "#Top Phrases by word count\n",
    "word2 = textacy.extract.ngrams(SpacyTextObject, 3, filter_stops=True, filter_punct=True, filter_nums=False, include_pos=None, exclude_pos=None, min_freq=3)\n",
    "for y in word2:\n",
    "    print(y)"
   ]
  },
  {
   "cell_type": "code",
   "execution_count": 29,
   "metadata": {},
   "outputs": [],
   "source": [
    "text = '''Ned is a fictional character. Ned is the lord of Winterfell, an ancient fortress in the North of the fictional continent of Westeros. \n",
    "Though the character is established as the main character in the novel and the first season of the TV adaptation,\n",
    "Martin's plot twist at the end involving Ned shocked both readers of the book and viewers of the TV series. \n",
    "Ned is the leader of the Stark Family. Ned is a father of six children.'''"
   ]
  },
  {
   "cell_type": "code",
   "execution_count": 30,
   "metadata": {},
   "outputs": [],
   "source": [
    "def summary(sentence, matchWord):\n",
    "    summary = ''\n",
    "    sentobj = nlp(sentence)\n",
    "    sentences = textacy.extract.semistructured_statements(sentobj, matchWord, cue = 'be')\n",
    "    for i, x in enumerate(sentences):\n",
    "        subject, verb, fact = x\n",
    "        \n",
    "        summary += 'Fact '+str(i+1) +': '+(str(fact))+\" \"\n",
    "    return summary   "
   ]
  },
  {
   "cell_type": "code",
   "execution_count": 31,
   "metadata": {},
   "outputs": [
    {
     "data": {
      "text/plain": [
       "'Fact 1: a fictional character Fact 2: the lord of Winterfell, an ancient fortress in the North of the fictional continent of Westeros. \\n Fact 3: the leader of the Stark Family Fact 4: a father of six children '"
      ]
     },
     "execution_count": 31,
     "metadata": {},
     "output_type": "execute_result"
    }
   ],
   "source": [
    "summary(text, 'Ned')"
   ]
  },
  {
   "cell_type": "code",
   "execution_count": 32,
   "metadata": {},
   "outputs": [
    {
     "name": "stdout",
     "output_type": "stream",
     "text": [
      "(Ned, is, character)\n",
      "(Ned, is, lord)\n",
      "(Ned, is, leader)\n",
      "(Ned, is, father)\n"
     ]
    }
   ],
   "source": [
    "doc = nlp(text)\n",
    "verbTriples = textacy.extract.subject_verb_object_triples(doc)\n",
    "for x in verbTriples:\n",
    "    print(x)"
   ]
  },
  {
   "cell_type": "code",
   "execution_count": 33,
   "metadata": {},
   "outputs": [],
   "source": [
    "def popularSeriesphrases(num, end, phrase_leng, freq, df=data):\n",
    "    '''num - beginning epidsode\n",
    "       end - ending episode\n",
    "       phrase-leng - length of phrase \n",
    "       freq - min frequency\n",
    "    output - popular phrases by epidsode subset \n",
    "    '''\n",
    "    \n",
    "    textComp = ''\n",
    "    \n",
    "    for i in range(num, end):\n",
    "        token, line = episodeTokens(i, df=data)\n",
    "        \n",
    "        Text = []\n",
    "        for x in line:\n",
    "            Text.append(x)\n",
    "\n",
    "        # Creates a string of subtitles for each episode     \n",
    "        Text = ','.join(Text)\n",
    "        \n",
    "        textComp = textComp + Text\n",
    "        \n",
    "        total = textacy.preprocess.normalize_whitespace(textComp)\n",
    "        \n",
    "        spaceObj1 = nlp(total)\n",
    "        \n",
    "        spaCy_phrase = textacy.extract.ngrams(spaceObj1, phrase_leng, filter_stops=True, filter_punct=True, filter_nums=False, include_pos=None, exclude_pos=None, min_freq=freq)\n",
    "        phrase = []\n",
    "        \n",
    "        for y in spaCy_phrase:\n",
    "            x = str(y).lower()\n",
    "            if x not in phrase:\n",
    "                phrase.append(x)\n",
    "    return phrase\n",
    "        "
   ]
  },
  {
   "cell_type": "code",
   "execution_count": 34,
   "metadata": {},
   "outputs": [
    {
     "data": {
      "text/plain": [
       "[\"king's landing\",\n",
       " 'thing you need',\n",
       " 'going to die',\n",
       " \"night's watch\",\n",
       " 'want to know',\n",
       " 'tried to kill',\n",
       " \"butcher's boy\",\n",
       " \"won't hurt\",\n",
       " \"king's hand\",\n",
       " 'live and die',\n",
       " \"won't let\",\n",
       " 'lord of winterfell',\n",
       " 'lannister always pays',\n",
       " 'know what happened',\n",
       " 'stallion who mounts',\n",
       " 'sun and stars']"
      ]
     },
     "execution_count": 34,
     "metadata": {},
     "output_type": "execute_result"
    }
   ],
   "source": [
    "#Season 1 3 word phrases \n",
    "popularSeriesphrases(1, 10, 3, 3,df=data)"
   ]
  },
  {
   "cell_type": "code",
   "execution_count": 35,
   "metadata": {},
   "outputs": [
    {
     "data": {
      "text/plain": [
       "['men of the night',\n",
       " 'hand of the king',\n",
       " 'hand of the king.,-',\n",
       " 'north of the wall',\n",
       " 'man of the night',\n",
       " 'king in the north!,the',\n",
       " 'king in the north']"
      ]
     },
     "execution_count": 35,
     "metadata": {},
     "output_type": "execute_result"
    }
   ],
   "source": [
    "# Season 1 four word phrases\n",
    "popularSeriesphrases(1, 10, 4, 3,df=data)"
   ]
  },
  {
   "cell_type": "code",
   "execution_count": 36,
   "metadata": {},
   "outputs": [
    {
     "data": {
      "text/plain": [
       "['hand of the king',\n",
       " 'commander of the city',\n",
       " 'sit on the iron',\n",
       " \"won't be able\",\n",
       " 'day until the end']"
      ]
     },
     "execution_count": 36,
     "metadata": {},
     "output_type": "execute_result"
    }
   ],
   "source": [
    "# season 2 four word phrases \n",
    "popularSeriesphrases(11, 20, 4, 3, df=data)"
   ]
  },
  {
   "cell_type": "code",
   "execution_count": 38,
   "metadata": {},
   "outputs": [
    {
     "data": {
      "text/plain": [
       "['swear it by the old',\n",
       " 'said no harm would come',\n",
       " \"know what it's like\",\n",
       " 'think that about their fathers',\n",
       " \"rains weep o'er his halls\",\n",
       " \"rains weep o'er his hall\",\n",
       " 'serve the starks.,i serve lady']"
      ]
     },
     "execution_count": 38,
     "metadata": {},
     "output_type": "execute_result"
    }
   ],
   "source": [
    "# season 2 five word phrases \n",
    "popularSeriesphrases(11, 20, 5, 2, df=data)"
   ]
  }
 ],
 "metadata": {
  "kernelspec": {
   "display_name": "Python 3",
   "language": "python",
   "name": "python3"
  },
  "language_info": {
   "codemirror_mode": {
    "name": "ipython",
    "version": 3
   },
   "file_extension": ".py",
   "mimetype": "text/x-python",
   "name": "python",
   "nbconvert_exporter": "python",
   "pygments_lexer": "ipython3",
   "version": "3.6.5"
  }
 },
 "nbformat": 4,
 "nbformat_minor": 2
}
